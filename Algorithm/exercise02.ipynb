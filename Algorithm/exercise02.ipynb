{
 "cells": [
  {
   "cell_type": "code",
   "execution_count": 16,
   "metadata": {
    "collapsed": true
   },
   "outputs": [],
   "source": [
    "def fib(n):\n",
    "    if n==0:\n",
    "        return 0\n",
    "    elif n==1:\n",
    "        return 1\n",
    "    else:\n",
    "        return fib(n-1) + fib(n-2)\n",
    "\n",
    "def fact(n):\n",
    "    if type(n) != type(1) or n < 0:\n",
    "        print(\"0 이상의 정수를 입력해주세요.\")\n",
    "        return -1\n",
    "    elif n == 1 or n == 0:\n",
    "        return 1\n",
    "    else:\n",
    "        return fact(n-1)*n\n"
   ]
  },
  {
   "cell_type": "code",
   "execution_count": 23,
   "outputs": [
    {
     "name": "stdout",
     "output_type": "stream",
     "text": [
      "8\n",
      "720\n"
     ]
    }
   ],
   "source": [
    "n=6\n",
    "print(fib(n))\n",
    "\n",
    "print(fact(n))"
   ],
   "metadata": {
    "collapsed": false,
    "pycharm": {
     "name": "#%%\n"
    }
   }
  },
  {
   "cell_type": "code",
   "execution_count": 41,
   "outputs": [
    {
     "name": "stdout",
     "output_type": "stream",
     "text": [
      "  1.50\n",
      "  1.60\n",
      "  1.70\n",
      "  1.80\n",
      "  1.90\n",
      "  2.00\n",
      "  2.10\n",
      "  2.20\n",
      "  2.30\n",
      "  2.40\n",
      "  2.50\n",
      "  2.60\n",
      "  2.70\n",
      "  2.80\n",
      "  2.90\n",
      "  3.00\n",
      "  3.10\n",
      "  3.20\n",
      "  3.30\n",
      "  3.40\n",
      "합= 49.00\n"
     ]
    }
   ],
   "source": [
    "s=0\n",
    "d=1.5\n",
    "while d<3.5:\n",
    "    print(f'{d:6.2f}')\n",
    "    s += d\n",
    "    d += 0.1\n",
    "print(f'합={s:6.2f}')"
   ],
   "metadata": {
    "collapsed": false,
    "pycharm": {
     "name": "#%%\n"
    }
   }
  },
  {
   "cell_type": "code",
   "execution_count": 44,
   "outputs": [
    {
     "name": "stdout",
     "output_type": "stream",
     "text": [
      "총 소요시간: 5.252s\n"
     ]
    }
   ],
   "source": [
    "import time\n",
    "N=50000000\n",
    "d=[]\n",
    "\n",
    "a=range(N)\n",
    "startTime = time.time()\n",
    "\n",
    "for i in a:\n",
    "    d.append(2*i)\n",
    "endTime = time.time()\n",
    "print(f'총 소요시간: {endTime-startTime:5.3f}s')"
   ],
   "metadata": {
    "collapsed": false,
    "pycharm": {
     "name": "#%%\n"
    }
   }
  },
  {
   "cell_type": "code",
   "execution_count": 59,
   "outputs": [
    {
     "name": "stdout",
     "output_type": "stream",
     "text": [
      "{1, 3, 5, 6}\n",
      "set()\n",
      "{1}\n",
      "{1, 5, 9}\n",
      "{1, (1, 3), 5, 9}\n",
      "{1, (1, 3), 5}\n",
      "{1, 5}\n",
      "{1, 2, 3, 4, 5}\n"
     ]
    }
   ],
   "source": [
    "a = {1,3,3,5,6}\n",
    "print(a)\n",
    "a = set()\n",
    "print(a)\n",
    "a.add(1)\n",
    "print(a)\n",
    "\n",
    "# add는 하나의 원소 추가, update는 해당 집합 내의 원소를 다 추가\n",
    "a.update([5,9])\n",
    "print(a)\n",
    "\n",
    "a.add((1,3))\n",
    "print(a)\n",
    "\n",
    "a.remove(9)\n",
    "print(a)\n",
    "\n",
    "a.remove((1,3))\n",
    "print(a)"
   ],
   "metadata": {
    "collapsed": false,
    "pycharm": {
     "name": "#%%\n"
    }
   }
  },
  {
   "cell_type": "code",
   "execution_count": 64,
   "outputs": [
    {
     "name": "stdout",
     "output_type": "stream",
     "text": [
      "{1, 2, 3, 4, 5}\n",
      "{1, 2}\n",
      "{3}\n",
      "{1, 2, 4, 5}\n"
     ]
    }
   ],
   "source": [
    "# 합집합 / 교집합\n",
    "a = {1,2,3}\n",
    "b = {3,4,5}\n",
    "c = a|b\n",
    "print(c)\n",
    "c = a-b\n",
    "print(c)\n",
    "c = a&b\n",
    "print(c)\n",
    "\n",
    "#symmetric difference 합 - 교\n",
    "c = a^b\n",
    "print(c)\n"
   ],
   "metadata": {
    "collapsed": false,
    "pycharm": {
     "name": "#%%\n"
    }
   }
  },
  {
   "cell_type": "code",
   "execution_count": 70,
   "outputs": [
    {
     "name": "stdout",
     "output_type": "stream",
     "text": [
      "{}\n",
      "{1: 'car', 2: 'house'}\n",
      "{3: 'person', 4: 'human'}\n",
      "{4: 'human'}\n",
      "{}\n"
     ]
    }
   ],
   "source": [
    "a = {}\n",
    "print(a)\n",
    "\n",
    "a = {1: 'car', 2: 'house'}\n",
    "print(a)\n",
    "\n",
    "a = dict([(3, 'person'), (4, 'human')])\n",
    "print(a)\n",
    "\n",
    "del a[3]\n",
    "print(a)\n",
    "\n",
    "a.clear()\n",
    "print(a)"
   ],
   "metadata": {
    "collapsed": false,
    "pycharm": {
     "name": "#%% Dictionary\n"
    }
   }
  },
  {
   "cell_type": "code",
   "execution_count": 75,
   "outputs": [],
   "source": [
    "class Stack(object):\n",
    "    top=0\n",
    "    data=None\n",
    "    length=None\n",
    "\n",
    "    def __init__(self, length):\n",
    "        self.length = length\n",
    "        self.data = self.length*[0]\n",
    "\n",
    "    def isFull(self):\n",
    "        return (self.top == self.length)\n",
    "\n",
    "    def isEmpty(self):\n",
    "        return (self.top == 0)\n",
    "\n",
    "    def push(self, object):\n",
    "        if not self.isFull():\n",
    "            self.data[self.top] = object\n",
    "            self.top += 1\n",
    "        else:\n",
    "            print(\"스택이 꽉 찼습니다.\")\n",
    "            return\n",
    "\n",
    "    def pop(self):\n",
    "        if not self.isEmpty():\n",
    "            self.top -= 1\n",
    "            return self.data[self.top]\n",
    "        else:\n",
    "            print(\"스택이 비어있습니다.\")\n",
    "            return\n",
    "    def printStack(self):\n",
    "        for i in range(self.top):\n",
    "            print(self.data[i])\n",
    "        print()"
   ],
   "metadata": {
    "collapsed": false,
    "pycharm": {
     "name": "#%% Stack\n"
    }
   }
  },
  {
   "cell_type": "code",
   "execution_count": 76,
   "outputs": [
    {
     "name": "stdout",
     "output_type": "stream",
     "text": [
      "A\n",
      "B\n",
      "\n",
      "B\n"
     ]
    }
   ],
   "source": [
    "s = Stack(5)\n",
    "s.push('A')\n",
    "s.push('B')\n",
    "s.printStack()\n",
    "print(s.pop())"
   ],
   "metadata": {
    "collapsed": false,
    "pycharm": {
     "name": "#%%\n"
    }
   }
  },
  {
   "cell_type": "code",
   "execution_count": 78,
   "outputs": [],
   "source": [
    "class Queue(object):\n",
    "    front=1\n",
    "    rear=0\n",
    "    data=None\n",
    "    length=None\n",
    "\n",
    "    def __init__(self, length):\n",
    "        self.length=length\n",
    "        self.data=self.length*[0]\n",
    "\n",
    "    def isFull(self):\n",
    "        return self.front == self.rear\n",
    "\n",
    "    def isEmpty(self):\n",
    "        return (self.rear + 1) % self.length == self.front\n",
    "\n",
    "    def enqueue(self, name):\n",
    "        if not self.isFull():\n",
    "            self.data[self.front] = name\n",
    "            self.front = (self.front +1) % self.length\n",
    "        else:\n",
    "            print(\"큐가 꽉 찼습니다.\")\n",
    "\n",
    "    def dequeue(self):\n",
    "        if not self.isEmpty():\n",
    "            self.rear = (self.rear +1) % self.length\n",
    "        else:\n",
    "            print(\"큐가 비어있습니다.\")\n",
    "\n",
    "    def printQ(self):\n",
    "        if self.rear >= self.front:\n",
    "            for i in self.data[self.rear+1:]:\n",
    "                print(i)\n",
    "            for i in self.data[:self.front]:\n",
    "                print(i)\n",
    "        else:\n",
    "            for i in self.data[self.rear+1: self.front]:\n",
    "                print(i)\n",
    "        print()"
   ],
   "metadata": {
    "collapsed": false,
    "pycharm": {
     "name": "#%% Queue\n"
    }
   }
  },
  {
   "cell_type": "code",
   "execution_count": 79,
   "outputs": [
    {
     "name": "stdout",
     "output_type": "stream",
     "text": [
      "A\n",
      "\n",
      "A\n",
      "B\n",
      "\n",
      "A\n",
      "B\n",
      "C\n",
      "D\n",
      "\n",
      "B\n",
      "C\n",
      "D\n",
      "\n",
      "C\n",
      "D\n",
      "\n",
      "C\n",
      "D\n",
      "E\n",
      "\n",
      "C\n",
      "D\n",
      "E\n",
      "F\n",
      "\n",
      "D\n",
      "E\n",
      "F\n",
      "\n"
     ]
    }
   ],
   "source": [
    "q= Queue(5)\n",
    "q.enqueue(\"A\")\n",
    "q.printQ()\n",
    "q.enqueue(\"B\")\n",
    "q.printQ()\n",
    "q.enqueue(\"C\")\n",
    "q.enqueue(\"D\")\n",
    "q.printQ()\n",
    "q.dequeue()\n",
    "q.printQ()\n",
    "q.dequeue()\n",
    "q.printQ()\n",
    "q.enqueue(\"E\")\n",
    "q.printQ()\n",
    "q.enqueue(\"F\")\n",
    "q.printQ()\n",
    "q.dequeue()\n",
    "q.printQ()"
   ],
   "metadata": {
    "collapsed": false,
    "pycharm": {
     "name": "#%%\n"
    }
   }
  },
  {
   "cell_type": "code",
   "execution_count": 1,
   "outputs": [],
   "source": [
    "def sequentialSearch(S, x):\n",
    "    for i, elem in enumerate(S):\n",
    "        if elem == x:\n",
    "            return i+1\n",
    "    return 0"
   ],
   "metadata": {
    "collapsed": false,
    "pycharm": {
     "name": "#%% 순차검색 알고리즘\n"
    }
   }
  },
  {
   "cell_type": "code",
   "execution_count": 2,
   "outputs": [
    {
     "name": "stdout",
     "output_type": "stream",
     "text": [
      "0\n"
     ]
    }
   ],
   "source": [
    "s = [3,5,2,1,7,9]\n",
    "loc = sequentialSearch(s,4)\n",
    "print(loc)\n"
   ],
   "metadata": {
    "collapsed": false,
    "pycharm": {
     "name": "#%%\n"
    }
   }
  },
  {
   "cell_type": "code",
   "execution_count": 3,
   "outputs": [
    {
     "name": "stdout",
     "output_type": "stream",
     "text": [
      "27\n"
     ]
    }
   ],
   "source": [
    "def sumOfList(S):\n",
    "    sum=0\n",
    "    for elem in S:\n",
    "        sum += elem\n",
    "    return sum\n",
    "\n",
    "S=[3,5,2,1,7,9]\n",
    "answer = sumOfList(S)\n",
    "print(answer)"
   ],
   "metadata": {
    "collapsed": false,
    "pycharm": {
     "name": "#%%\n"
    }
   }
  },
  {
   "cell_type": "code",
   "execution_count": 5,
   "outputs": [],
   "source": [
    "def exchangeSort(S):\n",
    "    for i in range(len(S)):\n",
    "        for j in range(i+1, len(S)):\n",
    "            if S[i] > S[j]:\n",
    "                S[i], S[j] = S[j], S[i]\n",
    "    return S\n",
    "\n",
    "s=[3,2,5,7,1,9,4,6,8]\n",
    "\n",
    "s = exchangeSort(s)"
   ],
   "metadata": {
    "collapsed": false,
    "pycharm": {
     "name": "#%%\n"
    }
   }
  },
  {
   "cell_type": "code",
   "execution_count": 21,
   "outputs": [
    {
     "name": "stdout",
     "output_type": "stream",
     "text": [
      "[[4]]\n",
      "[[6]]\n",
      "[[6, 1]]\n",
      "[[6, 1]]\n",
      "[[6, 1], [12]]\n",
      "[[6, 1], [16]]\n",
      "[[6, 1], [16, 3]]\n",
      "[[6, 1], [16, 3]]\n",
      "[[6, 1], [16, 3]]\n"
     ]
    }
   ],
   "source": [
    "def multiplyMatrix(a,b):\n",
    "    a_row = len(a)\n",
    "    a_col = len(a[0])\n",
    "    b_row = len(b)\n",
    "    b_col = len(b[0])\n",
    "    c = []\n",
    "    for i in range(a_row):\n",
    "        c.append([])\n",
    "        for j in range(b_col):\n",
    "            c[i].append(0)\n",
    "            for k in range(a_col):\n",
    "                c[i][j] += a[i][k]*b[k][j]\n",
    "    return c\n",
    "\n",
    "\n",
    "a = [[1,2], [3,4]]\n",
    "b = [[4,1], [1,0]]\n",
    "\n",
    "print(multiplyMatrix(a,b))\n"
   ],
   "metadata": {
    "collapsed": false,
    "pycharm": {
     "name": "#%%\n"
    }
   }
  },
  {
   "cell_type": "code",
   "execution_count": 29,
   "outputs": [
    {
     "name": "stdout",
     "output_type": "stream",
     "text": [
      "low=0 high=9 center=4\n",
      "low=5 high=9 center=7\n",
      "low=8 high=9 center=8\n",
      "8\n"
     ]
    }
   ],
   "source": [
    "def bs(data, item, low, high):\n",
    "\n",
    "    if item not in data:\n",
    "        return -1\n",
    "    center = (low + high)//2\n",
    "    print(f'low={low} high={high} center={center}')\n",
    "    if data[center] > item:\n",
    "        return bs(data, item, low, center-1)\n",
    "    elif data[center] < item:\n",
    "        return bs(data, item, center+1, high)\n",
    "    else:\n",
    "        return center\n",
    "\n",
    "data = [1,3,5,6,7,9,10,14,17,19]\n",
    "n=10\n",
    "location=bs(data,17,0,n-1)\n",
    "print(location)"
   ],
   "metadata": {
    "collapsed": false,
    "pycharm": {
     "name": "#%%\n"
    }
   }
  },
  {
   "cell_type": "code",
   "execution_count": 69,
   "outputs": [
    {
     "name": "stdout",
     "output_type": "stream",
     "text": [
      "1 1\n",
      "1 1\n",
      "2 2\n",
      "3 3\n",
      "5 5\n",
      "8 8\n",
      "13 13\n",
      "21 21\n",
      "34 34\n"
     ]
    }
   ],
   "source": [
    "def fibo1(n):\n",
    "    if n==1 or n==2:\n",
    "        return 1\n",
    "    else:\n",
    "        return fibo1(n-1) + fibo1(n-2)\n",
    "\n",
    "def fibo2(n):\n",
    "    if n == 1 or n==2:\n",
    "        return 1\n",
    "    result = []\n",
    "    for i in range(1, n+1):\n",
    "        if i==1 or i==2:\n",
    "            result.append(1)\n",
    "        else:\n",
    "            result.append(result[i-2] + result[i-3])\n",
    "    return result[n-2] + result[n-3]\n",
    "\n",
    "for i in range(1, 10):\n",
    "    print(fibo1(i), fibo2(i))"
   ],
   "metadata": {
    "collapsed": false,
    "pycharm": {
     "name": "#%%\n"
    }
   }
  }
 ],
 "metadata": {
  "kernelspec": {
   "display_name": "Python 3",
   "language": "python",
   "name": "python3"
  },
  "language_info": {
   "codemirror_mode": {
    "name": "ipython",
    "version": 2
   },
   "file_extension": ".py",
   "mimetype": "text/x-python",
   "name": "python",
   "nbconvert_exporter": "python",
   "pygments_lexer": "ipython2",
   "version": "2.7.6"
  }
 },
 "nbformat": 4,
 "nbformat_minor": 0
}