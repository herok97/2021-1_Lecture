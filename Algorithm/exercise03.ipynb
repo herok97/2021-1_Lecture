{
 "cells": [
  {
   "cell_type": "code",
   "execution_count": null,
   "metadata": {
    "collapsed": true,
    "pycharm": {
     "name": "#%% 이분검색: 재귀적 방식\n"
    }
   },
   "outputs": [],
   "source": [
    "'''\n",
    "문제: 크기가 n인 정렬된 배열 S에 x가 있는지를 결정하라.\n",
    "입력: 자연수 n, 비내림차순으로 정렬된 배열 S[1..n], 찾고자 하는 항목 x\n",
    "출력: 위치(location),  x가 S의 어디에 있는지의 위치. 만약 x가 S에 없다면 0\n",
    "설계전략:\n",
    "x가 배열의 중간에 위치하고 있는 항목과 같으면, x 찾음. 그렇지 않으면:\n",
    "분할: 배열을 반으로 나누어서 x가 중앙에 위치한 항목보다 작으면 왼쪽에 위치한 배열 반쪽을 선택하고, 그렇지 않으면 오른쪽에 위치한 배열 반쪽을 선택한다.\n",
    "정복: 선택된 반쪽 배열에서 x를 찾는다.\n",
    "통합: (필요 없음)\n",
    "'''"
   ]
  },
  {
   "cell_type": "code",
   "execution_count": 2,
   "outputs": [
    {
     "name": "stdout",
     "output_type": "stream",
     "text": [
      "8\n"
     ]
    }
   ],
   "source": [
    "def bs(data, item, low, high):\n",
    "    mid = (low + high) // 2\n",
    "    if item not in data:\n",
    "        return -1\n",
    "    if data[mid] > item:\n",
    "        return bs(data, item, low, mid-1)\n",
    "    elif data[mid] < item:\n",
    "        return bs(data, item, mid+1, high)\n",
    "    else:\n",
    "        return mid\n",
    "\n",
    "data=[1,3,5,6,7,9,10,14,17,19]\n",
    "n=10\n",
    "location=bs(data,17,0,n-1)\n",
    "\n",
    "print(location)"
   ],
   "metadata": {
    "collapsed": false,
    "pycharm": {
     "name": "#%%\n"
    }
   }
  },
  {
   "cell_type": "code",
   "execution_count": null,
   "outputs": [],
   "source": [
    "'''\n",
    "문제: n개의 정수를 비내림차순으로 정렬하시오.\n",
    "입력: 정수 n, 크기가 n인 배열 S[1..n]\n",
    "출력: 비내림차순으로 정렬된 배열 S[1..n]\n",
    "보기: 27, 10, 12, 20, 25, 13, 15, 22\n",
    "'''"
   ],
   "metadata": {
    "collapsed": false,
    "pycharm": {
     "name": "#%% 합병정렬(mergesort)\n"
    }
   }
  },
  {
   "cell_type": "code",
   "execution_count": 1,
   "outputs": [
    {
     "name": "stdout",
     "output_type": "stream",
     "text": [
      "[2, 3, 4, 5, 8, 9, 10, 14]\n"
     ]
    }
   ],
   "source": [
    "def mergeSort(n, S):\n",
    "    h = n // 2\n",
    "    m = n - h\n",
    "    if n > 1:\n",
    "        U = S[:h]\n",
    "        V = S[h:]\n",
    "        mergeSort(h, U)\n",
    "        mergeSort(m, V)\n",
    "        merge(h, m, U, V, S)\n",
    "\n",
    "\n",
    "\n",
    "def merge(h, m, U, V, S):\n",
    "    i, j, k = 0, 0, 0\n",
    "    while i < h and j < m:\n",
    "        # print(S)\n",
    "        if (U[i] < V[j]):\n",
    "            S[k] = U[i]\n",
    "            i += 1\n",
    "        else:\n",
    "            S[k] = V[j]\n",
    "            j += 1\n",
    "        k += 1\n",
    "\n",
    "    if (i >= h):\n",
    "        while j < m:\n",
    "            S[k] = V[j]\n",
    "            k += 1\n",
    "            j += 1\n",
    "    else:\n",
    "        while i < h:\n",
    "            S[k] = U[i]\n",
    "            k += 1\n",
    "            i += 1\n",
    "\n",
    "s = [3, 5, 2, 9, 10, 14, 4, 8]\n",
    "mergeSort(8, s)\n",
    "print(s)\n"
   ],
   "metadata": {
    "collapsed": false,
    "pycharm": {
     "name": "#%%\n"
    }
   }
  },
  {
   "cell_type": "code",
   "execution_count": 15,
   "outputs": [
    {
     "name": "stdout",
     "output_type": "stream",
     "text": [
      "S 할당후 [3, 5, 2, 9, 10, 14, 4, 8]\n",
      "S 할당후 [3, 5, 2, 9, 10, 14, 4, 8]\n",
      "S 할당후 [2, 3, 5, 9, 10, 14, 4, 8]\n",
      "S 할당후 [2, 3, 5, 9, 10, 14, 4, 8]\n",
      "S 할당후 [2, 3, 5, 9, 10, 14, 4, 8]\n",
      "S 할당후 [2, 3, 5, 9, 4, 8, 10, 14]\n",
      "S 할당후 [2, 3, 4, 5, 8, 9, 10, 14]\n",
      "[2, 3, 4, 5, 8, 9, 10, 14]\n"
     ]
    }
   ],
   "source": [
    "def mergeSort2(S, low, high):\n",
    "    if low < high:\n",
    "        mid = (low + high) //2\n",
    "        mergeSort2(S, low, mid)\n",
    "        mergeSort2(S, mid+1, high)\n",
    "        merge2(S, low, mid, high)\n",
    "\n",
    "def merge2(S, low, mid, high):\n",
    "    i, j, k = low, mid+1, low\n",
    "    U = [0 for i in range(len(S))]\n",
    "    while i <= mid and j <= high:\n",
    "        if S[i] < S[j]:\n",
    "            U[k] = S[i]\n",
    "            i += 1\n",
    "        else:\n",
    "            U[k] = S[j]\n",
    "            j += 1\n",
    "        k +=1\n",
    "    if i > mid:\n",
    "        while j <= high:\n",
    "            U[k] = S[j]\n",
    "            j +=1\n",
    "            k +=1\n",
    "    else:\n",
    "        while i <= mid:\n",
    "            U[k] = S[i]\n",
    "            i +=1\n",
    "            k +=1\n",
    "\n",
    "    for i in range(low, high+1):\n",
    "        S[i] = U[i]\n",
    "\n",
    "\n",
    "s = [3, 5, 2, 9, 10, 14, 4, 8]\n",
    "mergeSort2(s, 0, 7)\n",
    "print(s)"
   ],
   "metadata": {
    "collapsed": false,
    "pycharm": {
     "name": "#%% 합병정렬2\n"
    }
   }
  }
 ],
 "metadata": {
  "kernelspec": {
   "name": "python3",
   "language": "python",
   "display_name": "Python 3"
  },
  "language_info": {
   "codemirror_mode": {
    "name": "ipython",
    "version": 2
   },
   "file_extension": ".py",
   "mimetype": "text/x-python",
   "name": "python",
   "nbconvert_exporter": "python",
   "pygments_lexer": "ipython2",
   "version": "2.7.6"
  }
 },
 "nbformat": 4,
 "nbformat_minor": 0
}