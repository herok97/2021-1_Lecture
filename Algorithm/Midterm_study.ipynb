{
 "cells": [
  {
   "cell_type": "code",
   "execution_count": 1,
   "metadata": {
    "collapsed": true
   },
   "outputs": [
    {
     "name": "stdout",
     "output_type": "stream",
     "text": [
      "3\n"
     ]
    }
   ],
   "source": [
    "# Chap02 분할정복법"
   ]
  },
  {
   "cell_type": "code",
   "execution_count": null,
   "outputs": [],
   "source": [
    "# 1. 이분검색: 재귀 알고리즘\n",
    "# 문제: 정렬되지 않은 리스트에서 특정 값을 찾는 문제\n",
    "# 입력 파라미터 S(배열), n(배열의 크기)는 알고리즘 수행 중\n",
    "# 변하지 않는 값이므로 전역 변수로 지정하는게 좋음\n",
    "\n",
    "# 입력\n",
    "S = [1, 2, 3, 5, 11, 12, 4, 7, 10]\n",
    "x = 5   # 찾으려는 값\n",
    "\n",
    "def binary_search(low, high):\n",
    "    if low > high:\n",
    "        return 0\n",
    "    else:\n",
    "        mid = (low + high) // 2\n",
    "        if x == S[mid]:\n",
    "            return mid\n",
    "        elif x < S[mid]:\n",
    "            return binary_search(low, mid-1)\n",
    "        else:\n",
    "            return binary_search(mid+1, high)\n",
    "\n",
    "# 테스트\n",
    "result = binary_search(0, 10)\n",
    "print(result)\n",
    "\n",
    "# 시간 복잡도\n",
    "'''\n",
    "    W(n) = W(n/2) + 1 , n > 1\n",
    "    W(1) = 1 이므로\n",
    "    => W(n) = log(n) + 1\n",
    "\n",
    "'''"
   ],
   "metadata": {
    "collapsed": false,
    "pycharm": {
     "name": "#%%\n"
    }
   }
  },
  {
   "cell_type": "code",
   "execution_count": 35,
   "outputs": [
    {
     "name": "stdout",
     "output_type": "stream",
     "text": [
      "[1, 20, 2, 3, 5, 11, 12, 4, 7, 10]\n",
      "u: [1], v: [20]\n",
      "u: [3], v: [5]\n",
      "u: [2], v: [3, 5]\n",
      "u: [1, 20], v: [2, 3, 5]\n",
      "u: [11], v: [12]\n",
      "u: [7], v: [10]\n",
      "u: [4], v: [7, 10]\n",
      "u: [11, 12], v: [4, 7, 10]\n",
      "u: [1, 2, 3, 5, 20], v: [4, 7, 10, 11, 12]\n",
      "[1, 2, 3, 4, 5, 7, 10, 11, 12, 20]\n"
     ]
    },
    {
     "data": {
      "text/plain": "'\\nmerge_sort 알고리즘의 시간복잡도 분석\\n\\uf0fc 단위연산: 합병 알고리즘 merge 에서 발생하는 비교\\n\\uf0fc 입력크기: 배열 S에 들어 있는 항목의 개수 n\\n\\uf0fc 분석: 최악의 경우 수행시간은 W(h,m) = W(h) + W(m) + h + m - 1이 된다.\\n여기서 W(h)는 U를 정렬하는데 걸리는 시간, W(m)은 V를 정렬하는데\\n걸리는 시간, 그리고 h + m - 1은 합병하는데 걸리는 시간\\n'"
     },
     "execution_count": 35,
     "metadata": {},
     "output_type": "execute_result"
    }
   ],
   "source": [
    "# 2. 합병정렬 (Merge sort)\n",
    "# 문제: n 개의 정수를 비내림차순으로 정렬\n",
    "# 입력: 크기가 n인 배열 S\n",
    "# 출력: 비내림차순으로 정렬된 배열 S\n",
    "\n",
    "# 입력\n",
    "S = [1, 20, 2, 3, 5, 11, 12, 4, 7, 10]\n",
    "\n",
    "def merge_sort(s):\n",
    "    mid = len(s) // 2\n",
    "\n",
    "    if len(s) > 1:\n",
    "        # u, v 에 각각 나눠 담기\n",
    "        u = s[:mid]\n",
    "        v = s[mid:]\n",
    "        merge_sort(u)\n",
    "        merge_sort(v)\n",
    "        print(f'u: {u}, v: {v}')\n",
    "        # 깊은 복사 주의\n",
    "        s[:] = merge(u, v)\n",
    "\n",
    "def merge(u, v):\n",
    "    i, j = 0, 0\n",
    "    result = []\n",
    "    while i < len(u) and j < len(v):\n",
    "        if u[i] > v[j]:\n",
    "            result.append(v[j])\n",
    "            j += 1\n",
    "        else:\n",
    "            result.append(u[i])\n",
    "            i += 1\n",
    "    while j != len(v):\n",
    "        result.append(v[j])\n",
    "        j +=1\n",
    "\n",
    "    while i != len(u):\n",
    "        result.append(u[i])\n",
    "        i +=1\n",
    "    return result\n",
    "\n",
    "print(S)\n",
    "merge_sort(S)\n",
    "print(S)\n",
    "\"\"\"\n",
    "merge 알고리즘의 시간복잡도 분석\n",
    " 단위연산: U[i] 와 V[j]의 비교\n",
    " 입력크기: 2개의 입력 배열에 각각 들어 있는 항목의 개수: h와 m\n",
    " 분석: i = h+1이고, j = m인 상태로 루프(loop)에서 빠져 나가는 때가 최악\n",
    "의 경우로서(V에 있는 처음 m - 1개의 항목이 S의 앞부분에 위치하고, U\n",
    "에 있는 h개의 모든 항목이 그 뒤에 위치하는 경우), 이 때 단위연산의 실\n",
    "행 횟수는 h + m -1이다. 따라서, 최악의 경우 합병하는 시간복잡도는\n",
    "W(h,m) = h + m -1.\n",
    "\"\"\"\n",
    "\n",
    "\"\"\"\n",
    "merge_sort 알고리즘의 시간복잡도 분석\n",
    " 단위연산: 합병 알고리즘 merge 에서 발생하는 비교\n",
    " 입력크기: 배열 S에 들어 있는 항목의 개수 n\n",
    " 분석: 최악의 경우 수행시간은 W(h,m) = W(h) + W(m) + h + m - 1이 된다.\n",
    "여기서 W(h)는 U를 정렬하는데 걸리는 시간, W(m)은 V를 정렬하는데\n",
    "걸리는 시간, 그리고 h + m - 1은 합병하는데 걸리는 시간\n",
    "\"\"\"\n",
    "\n",
    "#\n",
    "# 공간복잡도 관련한 내용은 assignment02.py에 있음 거기서 확인\n",
    "# 인덱스 최대한 활용한 방법으로 구현"
   ],
   "metadata": {
    "collapsed": false,
    "pycharm": {
     "name": "#%%\n"
    }
   }
  },
  {
   "cell_type": "code",
   "execution_count": 31,
   "outputs": [
    {
     "name": "stdout",
     "output_type": "stream",
     "text": [
      "중간결과: [3, 5, 2, 9, 10, 14, 4, 8]\n",
      "중간결과: [3, 5, 2, 9, 10, 14, 4, 8]\n",
      "중간결과: [3, 2, 5, 9, 10, 14, 4, 8]\n",
      "중간결과: [3, 2, 5, 9, 10, 14, 4, 8]\n",
      "중간결과: [3, 2, 5, 9, 10, 14, 4, 8]\n",
      "중간결과: [3, 2, 5, 9, 10, 14, 4, 8]\n",
      "중간결과: [3, 2, 5, 9, 10, 14, 4, 8]\n",
      "중간결과: [2, 3, 5, 9, 10, 14, 4, 8]\n",
      "중간결과: [2, 3, 5, 9, 10, 14, 4, 8]\n",
      "중간결과: [2, 3, 5, 9, 10, 14, 4, 8]\n",
      "중간결과: [2, 3, 5, 9, 10, 14, 4, 8]\n",
      "중간결과: [2, 3, 5, 4, 10, 14, 9, 8]\n",
      "중간결과: [2, 3, 4, 5, 10, 14, 9, 8]\n",
      "중간결과: [2, 3, 4, 5, 10, 14, 9, 8]\n",
      "중간결과: [2, 3, 4, 5, 10, 9, 14, 8]\n",
      "중간결과: [2, 3, 4, 5, 8, 9, 10, 14]\n",
      "[2, 3, 4, 5, 8, 9, 10, 14]\n"
     ]
    }
   ],
   "source": [
    "# 3. 빠른 정렬 (Quick sort)\n",
    "# - 분할교환정렬이라고 부르는게 더 정확\n",
    "# 문제: n개의 정수를 비내림차순으로 정렬\n",
    "# 입력: 크기가 n인 배열 S\n",
    "# 출력: 비내림차순으로 정렬된 배열 S\n",
    "\n",
    "s = [3, 5, 2, 9, 10, 14, 4, 8]\n",
    "\n",
    "def quickSort(s, low, high):\n",
    "    if low < high:\n",
    "        pivot = partition(s, low, high)\n",
    "        quickSort(s, low, pivot -1)\n",
    "        quickSort(s, pivot + 1, high)\n",
    "\n",
    "\n",
    "def partition(s, low, high):\n",
    "    pivot = s[low]\n",
    "    j = low\n",
    "    for i in range(low+1, high+1):\n",
    "        print(f'중간결과: {s}')\n",
    "        if s[i] < pivot:\n",
    "            j += 1\n",
    "            s[i], s[j] = s[j], s[i]\n",
    "\n",
    "    s[low], s[j] = s[j], s[low]\n",
    "    return j\n",
    "\n",
    "quickSort(s, 0, 7)\n",
    "print(s)\n",
    "\n",
    "# 가장 좋은 경우는 문제가 pivot point에 의해 매번 반씩 나누어질 때"
   ],
   "metadata": {
    "collapsed": false,
    "pycharm": {
     "name": "#%%\n"
    }
   }
  },
  {
   "cell_type": "code",
   "execution_count": null,
   "outputs": [],
   "source": [],
   "metadata": {
    "collapsed": false,
    "pycharm": {
     "name": "#%%\n"
    }
   }
  }
 ],
 "metadata": {
  "kernelspec": {
   "display_name": "Python 3",
   "language": "python",
   "name": "python3"
  },
  "language_info": {
   "codemirror_mode": {
    "name": "ipython",
    "version": 2
   },
   "file_extension": ".py",
   "mimetype": "text/x-python",
   "name": "python",
   "nbconvert_exporter": "python",
   "pygments_lexer": "ipython2",
   "version": "2.7.6"
  }
 },
 "nbformat": 4,
 "nbformat_minor": 0
}