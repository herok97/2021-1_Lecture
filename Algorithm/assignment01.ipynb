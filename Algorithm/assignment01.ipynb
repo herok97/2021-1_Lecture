{
 "cells": [
  {
   "cell_type": "code",
   "execution_count": 84,
   "metadata": {
    "collapsed": true
   },
   "outputs": [
    {
     "data": {
      "text/plain": "\"\\n파이썬 프로그램을 이용하여 n개의 데이타 (키 값은 1~100 사이의 자연수)를 정렬하는 문제를 파이썬 프로그램을 이용하여 다음의 내용에 대해 수행한다.\\n\\n(1) n개의 데이타를 random으로 생성\\n\\n(2) O(n^2) 인 exchange sort 알고리즘(A)와 O(n log n) 알고리즘인 merge sort 알고리즘(B)를 구현\\n\\n(3) n=2,000, 4,000, 12,000에 대해 알고리즘 A, B가 종료될 때까지의 시간을 측정한다.\\n\\n(4) A, B 를 1분간 수행할 때 해결할 수 있는 문제의 크기 n' 를 (3)의 결과를 이용하여 추정한다. A와 B의 수행시간과 n의 관계를 고려해서 추정할 것.\\n\\n(5) n=5,000만일 때의 A, B의 수행시간을 (3)의 결과를 이용하여 추정한다.\\n\""
     },
     "execution_count": 84,
     "metadata": {},
     "output_type": "execute_result"
    }
   ],
   "source": [
    "'''\n",
    "파이썬 프로그램을 이용하여 n개의 데이타 (키 값은 1~100 사이의 자연수)를 정렬하는 문제를 파이썬 프로그램을 이용하여 다음의 내용에 대해 수행한다.\n",
    "\n",
    "(1) n개의 데이타를 random으로 생성\n",
    "\n",
    "(2) O(n^2) 인 exchange sort 알고리즘(A)와 O(n log n) 알고리즘인 merge sort 알고리즘(B)를 구현\n",
    "\n",
    "(3) n=2,000, 4,000, 12,000에 대해 알고리즘 A, B가 종료될 때까지의 시간을 측정한다.\n",
    "\n",
    "(4) A, B 를 1분간 수행할 때 해결할 수 있는 문제의 크기 n' 를 (3)의 결과를 이용하여 추정한다. A와 B의 수행시간과 n의 관계를 고려해서 추정할 것.\n",
    "\n",
    "(5) n=5,000만일 때의 A, B의 수행시간을 (3)의 결과를 이용하여 추정한다.\n",
    "'''"
   ]
  },
  {
   "cell_type": "code",
   "execution_count": 85,
   "outputs": [],
   "source": [
    "#(1) n개의 데이타를 random으로 생성\n",
    "import random as rand\n",
    "data = [rand.randint(1, 100) for i in range(100)]"
   ],
   "metadata": {
    "collapsed": false,
    "pycharm": {
     "name": "#%%\n"
    }
   }
  },
  {
   "cell_type": "code",
   "execution_count": 86,
   "outputs": [],
   "source": [
    "#(2) O(n^2) 인 exchange sort 알고리즘(A)와 O(n log n) 알고리즘인 merge sort 알고리즘(B)를 구현\n",
    "\n",
    "# 깊은 복사를 위한 copy 라이브러리 임포트\n",
    "import copy\n",
    "\n",
    "# (A) 구현\n",
    "def exchange_sort(_s):\n",
    "    s = copy.deepcopy(_s)\n",
    "    for i in range(len(s)):\n",
    "        for j in range(i+1, len(s)):\n",
    "            if s[i] > s[j]:\n",
    "                s[i], s[j] = s[j], s[i]\n",
    "    return s\n",
    "\n",
    "# (B) 구현\n",
    "def merge_sort(_s):\n",
    "    s = copy.deepcopy(_s)\n",
    "    if len(s) == 1:\n",
    "        return s\n",
    "    else:\n",
    "        mid = len(s)//2\n",
    "        left = merge_sort(s[:mid])\n",
    "        right = merge_sort(s[mid:])\n",
    "\n",
    "        i, j = 0, 0\n",
    "        result = []\n",
    "        while (i<len(left)) & (j<len(right)):\n",
    "            if left[i] < right[j]:\n",
    "                result.append(left[i])\n",
    "                i+=1\n",
    "            else:\n",
    "                result.append(right[j])\n",
    "                j+=1\n",
    "        while (i<len(left)):\n",
    "            result.append(left[i])\n",
    "            i+=1\n",
    "\n",
    "        while (j<len(right)):\n",
    "            result.append(right[j])\n",
    "            j+=1\n",
    "        return result"
   ],
   "metadata": {
    "collapsed": false,
    "pycharm": {
     "name": "#%%\n"
    }
   }
  },
  {
   "cell_type": "code",
   "execution_count": 87,
   "outputs": [
    {
     "name": "stdout",
     "output_type": "stream",
     "text": [
      "n=2000\n",
      "exchange sort time  : 0.09803s\n",
      "merge sort time     : 0.02000s\n",
      "\n",
      "n=4000\n",
      "exchange sort time  : 0.38798s\n",
      "merge sort time     : 0.04300s\n",
      "\n",
      "n=12000\n",
      "exchange sort time  : 3.28930s\n",
      "merge sort time     : 0.13900s\n",
      "\n"
     ]
    }
   ],
   "source": [
    "# (3) n=2,000, 4,000, 12,000에 대해 알고리즘 A, B가 종료될 때까지의 시간을 측정한다.\n",
    "from time import time\n",
    "\n",
    "conditions = [[rand.randint(1, 100) for i in range(iteration)]\n",
    "             for iteration in [2000, 4000, 12000]]\n",
    "\n",
    "\n",
    "for condition in conditions:\n",
    "    print(f'n={len(condition)}')\n",
    "    start = time()\n",
    "    exchange_sort(condition)\n",
    "    end = time()\n",
    "    print(f'exchange sort time  : {end-start:6.5f}s')\n",
    "    start = time()\n",
    "    data_sorted_by_merge = merge_sort(condition)\n",
    "    end = time()\n",
    "    print(f'merge sort time     : {end-start:6.5f}s')\n",
    "    print()"
   ],
   "metadata": {
    "collapsed": false,
    "pycharm": {
     "name": "#%%\n"
    }
   }
  },
  {
   "cell_type": "code",
   "execution_count": 88,
   "outputs": [
    {
     "name": "stdout",
     "output_type": "stream",
     "text": [
      "2.45e-08\n",
      "49487.165930539355\n",
      "1.3156332492395189e-06\n"
     ]
    }
   ],
   "source": [
    "# (4) A, B 를 1분간 수행할 때 해결할 수 있는 문제의 크기 n' 를 (3)의 결과를 이용하여 추정한다. A와 B의 수행시간과 n의 관계를 고려해서 추정할 것.\n",
    "import math\n",
    "'''\n",
    "(3)의 결과를 보면, O(N^2)의 시간 복잡도를 가지는 exchange sort의 경우 n이 커질수록 소요시간은 t는 k*n^2에 수렴하게 된다.\n",
    "n=2000 일 때 t=0.098s 임을 이용하면 k = 2.45e-08, 이를 이용해 1분동안 실행 가능한 n의 수를 구하면 약 49487이다.\n",
    "'''\n",
    "k = (0.098)/(2000*2000)\n",
    "print(k)\n",
    "a_minute_iteration_of_exchange = math.sqrt(60/2.45e-08)\n",
    "print(a_minute_iteration_of_exchange)\n",
    "\n",
    "'''\n",
    "마찬가지로, O(N*logN)의 시간 복잡도를 가지는 merge sort의 경우 n이 커질수록 소요시간 t는 k*nlog(n)에 수렴하게 된다.\n",
    "n=2000일 때, t=0.02s 임을 이용하면, k = 1.3156332492395189e-06 단, 이를 이용해 1분동한 실행 가능한 n의 수를 구하려면,\n",
    "nlog(n) 함수의 역함수를 이용해야 한다. 람베르트 W 함수를 사용해야 하므로 엄밀한 증명은 생략.\n",
    "'''\n",
    "k = (0.02)/(2000*math.log(2000))\n",
    "print(k)\n",
    "# a_minute_iteration_of_merge\n"
   ],
   "metadata": {
    "collapsed": false,
    "pycharm": {
     "name": "#%%\n"
    }
   }
  },
  {
   "cell_type": "code",
   "execution_count": 103,
   "outputs": [
    {
     "name": "stdout",
     "output_type": "stream",
     "text": [
      "708.0\n",
      "1.0002791697622113\n"
     ]
    }
   ],
   "source": [
    "# (5) n=5,000만일 때의 A, B의 수행시간을 (3)의 결과를 이용하여 추정한다.\n",
    "'''\n",
    "(4)에서 구한 k를 이용하면 각각 구할 수 있다.\n",
    "exchange sort의 경우, t = (2.45e-08)*n^2에 수렴하므로, 계산하면 약 708일이 소요된다.\n",
    "'''\n",
    "t_exchange = (2.45e-08)*(50000000)*(50000000) // 3600 // 24  # 708일\n",
    "print(t_exchange)\n",
    "\n",
    "'''\n",
    "merge sort의 경우, t = (1.3156332492395189e-06)*nlog(n)에 수렴하므로, 계산하면 약 19분이 소요된다.\n",
    "'''\n",
    "t_merge = (1.3156332492395189e-06)*3055000*math.log(3055000) / 60# 19분\n",
    "print(t_merge)"
   ],
   "metadata": {
    "collapsed": false,
    "pycharm": {
     "name": "#%%\n"
    }
   }
  }
 ],
 "metadata": {
  "kernelspec": {
   "display_name": "Python 3",
   "language": "python",
   "name": "python3"
  },
  "language_info": {
   "codemirror_mode": {
    "name": "ipython",
    "version": 2
   },
   "file_extension": ".py",
   "mimetype": "text/x-python",
   "name": "python",
   "nbconvert_exporter": "python",
   "pygments_lexer": "ipython2",
   "version": "2.7.6"
  }
 },
 "nbformat": 4,
 "nbformat_minor": 0
}