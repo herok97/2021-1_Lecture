{
 "cells": [
  {
   "cell_type": "markdown",
   "metadata": {},
   "source": [
    "# [SWCON253] Machine Learning\n",
    "Instructor: Eunseop Shin (kairos9603@khu.ac.kr)\n",
    "\n",
    "Professor: Hui Yong Kim (hykim.v@khu.ac.kr)"
   ]
  },
  {
   "cell_type": "markdown",
   "metadata": {},
   "source": [
    "---"
   ]
  },
  {
   "cell_type": "markdown",
   "metadata": {},
   "source": [
    "# P1.A:  Pure Python만을 이용하여 Perceptron 구현 (5점)\n",
    "\n",
    "### 학습목표\n",
    "- Perceptron Python class를 직접 구현하면서 NN의 작동방법을 이해한다.\n",
    "- 머신러닝 모델의 데이터 준비, 개발, 학습, 검증, 시각화 과정을 이해하고 설명 할 수 있다.\n",
    "\n",
    "### 실습내용\n",
    "Frank Rosenblatt의 classic perceptorn binary classication(0 또는 1을 구분하는)을 구현합니다. <br>\n",
    "여러분은 \"Pure\" 혹은 \"vanila\" Python 함수만을 사용하여 구현해야합니다. 그러므로 시각화를 위한 matplotlib 이외의 패키지는 사용하지마세요.\n",
    "\n",
    "실습은 다음 순서로 진행됩니다.\n",
    "- 0) 실습에서 사용되는 패키지 import\n",
    "- 1) 주어진 데이터셋 loading\n",
    "- 2) Perceptron Model 구현 **<직접 구현>**\n",
    "- 3) Perceptron Model 학습\n",
    "- 4) Perceptron Model 검증\n",
    "- 5) Decision Boundary 시각화\n",
    "- 6) Discussion\n",
    "\n",
    "**이번 실습에서 여러분은 `2) Perceptron Model 구현` 부분의 코드를 직접 작성합니다.**\n",
    "\n",
    "앞으로 대부분의 실습도 위와 같은 순서로 진행됩니다. 이번 실습을 통해 각 부분의 코드를 이해하고 다음 실습에 참고하도록합니다.\n",
    "\n",
    "\n",
    "### 점수\n",
    "- Perceptron model 구현: 각 함수별로 1점\n",
    "\n",
    "`.ipynb 파일과 함께 .html 파일 (File -> export as -> HTML)도 함께 제출하세요. 하나만 제출할시 감점이 있습니다.`"
   ]
  },
  {
   "cell_type": "markdown",
   "metadata": {},
   "source": [
    "## 0) Imports\n",
    "**수정하지 마세요.** HW1에서는 \"pure\" python으로만 코드를 작성합니다. `matplotlib`이외의 패키지는 사용하지 않습니다."
   ]
  },
  {
   "cell_type": "code",
   "execution_count": 73,
   "metadata": {},
   "outputs": [],
   "source": [
    "import matplotlib.pyplot as plt\n",
    "%matplotlib inline"
   ]
  },
  {
   "cell_type": "markdown",
   "metadata": {},
   "source": [
    "## 1) Loading the Dataset\n",
    "**수정하지 마세요.** 코드를 실행시켜 실습코드와 같이 첨부된 dataset.csv파일을 로드합니다."
   ]
  },
  {
   "cell_type": "code",
   "execution_count": 74,
   "metadata": {},
   "outputs": [
    {
     "name": "stdout",
     "output_type": "stream",
     "text": [
      "100 100\n"
     ]
    }
   ],
   "source": [
    "# CSV 파일을 읽기\n",
    "X, y = [], []\n",
    "\n",
    "with open('./dataset.csv', 'r') as f:\n",
    "    next(f)\n",
    "    for line in f:\n",
    "        line = line.strip()\n",
    "        if line:\n",
    "            values = line.split(',')\n",
    "        else:\n",
    "            continue\n",
    "        X.append([float(i) for i in values[:2]])\n",
    "        y.append(int(values[-1]))\n",
    "        \n",
    "print(len(X), len(y))"
   ]
  },
  {
   "cell_type": "markdown",
   "metadata": {},
   "source": [
    "### Dataset Split & Visualization\n",
    "Load 된 데이터셋을 모델 학습과 검증을 위해 Trainset과 Testset으로 랜덤 샘플링하여 나누고 데이터셋이 어떤 분포로 생겼는지 시각화하여 살펴봅니다."
   ]
  },
  {
   "cell_type": "code",
   "execution_count": 75,
   "metadata": {},
   "outputs": [],
   "source": [
    "import random\n",
    "\n",
    "\n",
    "# 랜덤시드 설정\n",
    "random.seed(123)\n",
    "\n",
    "# 데이터 랜덤 셔플\n",
    "idx = list(range(len(X)))\n",
    "random.shuffle(idx)\n",
    "\n",
    "# 앞 80개 까지는 학습용으로 뒤 20개는 테스트용으로 split\n",
    "X_train = [X[i] for i in idx[:80]]\n",
    "y_train = [y[i] for i in idx[:80]]\n",
    "X_test = [X[i] for i in idx[80:]]\n",
    "y_test = [y[i] for i in idx[80:]]"
   ]
  },
  {
   "cell_type": "code",
   "execution_count": 76,
   "metadata": {},
   "outputs": [
    {
     "name": "stderr",
     "output_type": "stream",
     "text": [
      "Exception ignored in: <function _MultiProcessingDataLoaderIter.__del__ at 0x00000141DD322798>\n",
      "Traceback (most recent call last):\n",
      "  File \"C:\\Users\\01079\\anaconda3\\envs\\pytorch\\lib\\site-packages\\torch\\utils\\data\\dataloader.py\", line 1324, in __del__\n",
      "    self._shutdown_workers()\n",
      "  File \"C:\\Users\\01079\\anaconda3\\envs\\pytorch\\lib\\site-packages\\torch\\utils\\data\\dataloader.py\", line 1297, in _shutdown_workers\n",
      "    w.join(timeout=_utils.MP_STATUS_CHECK_INTERVAL)\n",
      "  File \"C:\\Users\\01079\\anaconda3\\envs\\pytorch\\lib\\multiprocessing\\process.py\", line 140, in join\n",
      "    res = self._popen.wait(timeout)\n",
      "  File \"C:\\Users\\01079\\anaconda3\\envs\\pytorch\\lib\\multiprocessing\\popen_spawn_win32.py\", line 104, in wait\n",
      "    res = _winapi.WaitForSingleObject(int(self._handle), msecs)\n",
      "KeyboardInterrupt: \n"
     ]
    },
    {
     "data": {
      "text/plain": "<Figure size 432x288 with 1 Axes>",
      "image/png": "[encoded data removed]"
     },
     "metadata": {
      "needs_background": "light"
     },
     "output_type": "display_data"
    }
   ],
   "source": [
    "# 클래스 별로 데이터를 시각화 하여 분포를 살펴보기\n",
    "plt.scatter([i[0] for idx, i in enumerate(X_train) if y_train[idx] == 0], \n",
    "            [i[1] for idx, i in enumerate(X_train) if y_train[idx] == 0],\n",
    "            label='class 0', marker='o')\n",
    "\n",
    "plt.scatter([i[0] for idx, i in enumerate(X_train) if y_train[idx] == 1], \n",
    "            [i[1] for idx, i in enumerate(X_train) if y_train[idx] == 1],\n",
    "            label='class 1', marker='s')\n",
    "\n",
    "plt.title('Training set')\n",
    "plt.xlabel('feature 1')\n",
    "plt.ylabel('feature 2')\n",
    "plt.xlim([0.0, 7])\n",
    "plt.ylim([-0.8, 0.8])\n",
    "plt.legend()\n",
    "plt.show()"
   ]
  },
  {
   "cell_type": "markdown",
   "metadata": {},
   "source": [
    "## 2) Perceptron model 구현\n",
    "이 부분에서는 직접 `Perceptron model`을 구현해 봅니다.\n",
    "\n",
    "Perceptron model은 생성자, forward, backward, train, evaluation 다섯개 함수로 이루어져 있습니다.\n",
    "- `__init__` 생성자에서는 Perceptron의 weights와 bias를 초기화합니다.\n",
    "- `forward`에서는 input을 Perceptron의 가중치를 이용해서 예측을 수행합니다.\n",
    "- `backward`에서는 Perceptron의 가중치를 학습하기 위해 에러를 계산합니다.\n",
    "- `train`에서는 Perceptron을 학습하는 과정으로 `forward`와 `backward`를 차례로 반복하여 Perceptron의 가중치를 업데이트 합니다.\n",
    "- `evaluation`에서는 들어온 input data를 학습된 가중치를 이용하여 예측하고 결과를 반환합니다.\n",
    "\n",
    "아래 `# <your code>` 부분을 채워 넣어서 Perceptron class를 직접 작성하여 구현하세요.\n",
    "\n",
    "**세부 구현 사항:**\n",
    "- weights는 랜덤으로 초기화, bias는 0으로 초기화한다.\n",
    "- activation은 0.이상은 1., 이하는 0.으로 하도록한다.\n",
    "- 설명되지 않은 사항은 자유롭게 작성하고 주석으로 설명한다."
   ]
  },
  {
   "cell_type": "markdown",
   "metadata": {},
   "source": [
    "#### Perceptorn\n",
    "![Perceptron](https://www.researchgate.net/profile/Daniel-Alvarez-34/publication/315788933/figure/fig3/AS:479799241121795@1491404461957/Scheme-of-a-perceptron-A-nonlinear-activation-function-BULLET-is-applied-to-the.png)\n",
    "출처: https://www.researchgate.net/figure/Scheme-of-a-perceptron-A-nonlinear-activation-function-BULLET-is-applied-to-the_fig3_315788933"
   ]
  },
  {
   "cell_type": "code",
   "execution_count": 77,
   "metadata": {},
   "outputs": [],
   "source": [
    "import random\n",
    "\n",
    "class Perceptron():\n",
    "    def __init__(self, num_features):\n",
    "        self.weights = [random.randint(1, 100)/100, random.randint(1, 100)/100] # <your code> initialization\n",
    "        self.bias = 0# <your code> initialization\n",
    "\n",
    "    def forward(self, x):\n",
    "        # 가중치와 입력값을 각각 곱하여 더하고, bias 또한 더해주었다.\n",
    "        linear = self.weights[0] * x[0] + self.weights[1] + x[1] + self.bias # <your code> compute weighted sum\n",
    "\n",
    "        # 삼항연산자로 activation 함수 구현\n",
    "        prediction = 1 if linear >= 0 else 0 # <your code> apply activation\n",
    "        return prediction\n",
    "        \n",
    "    def backward(self, x, y):\n",
    "        # <your code> to compute the prediction error\n",
    "\n",
    "        # diff 는 실제 값과의 l2 norm 을 미분한 값에 2 를 곱한 것으로 한다.\n",
    "        diff = y - self.forward(x)\n",
    "\n",
    "        # diff 에 가중치별 미분 값을 추가로 곱하여 errors에 저장한다.\n",
    "        # 이 때 bias는 diff 값을 그대로 사용한다. / errors.append(diff)\n",
    "        errors = [diff * x[i]for i in range(2)]\n",
    "        errors.append(diff)\n",
    "        return errors\n",
    "        \n",
    "    def train(self, x, y, epochs):\n",
    "        # epochs 만큼 학습\n",
    "        for e in range(epochs):\n",
    "            # 데이터 하나씩 학습\n",
    "            for i in range(len(y)):\n",
    "                # <your code> to update the weights and bias\n",
    "\n",
    "                # 각 가중치에 업데이트할 값을 list 형태로 받아서 errors 에 저장한다.\n",
    "                errors = self.backward(x[i], y[i])\n",
    "\n",
    "                # 모델의 가중치에 각각 업데이트를 하고 마지막에 bias 도 업데이트 해준다.\n",
    "                for j in range(len(self.weights)):\n",
    "                    self.weights[j] += errors[j]\n",
    "                self.bias += errors[-1]\n",
    "\n",
    "    def evaluate(self, x, y):\n",
    "        # <your code> to compute the prediction accuracy\n",
    "        total = len(x)\n",
    "        count = 0\n",
    "\n",
    "        # 예측 값과 실제 값이 같을 때 count 를 1 늘린다.\n",
    "        for i in range(len(x)):\n",
    "            if self.forward(x[i]) == y[i]:\n",
    "                count += 1\n",
    "\n",
    "        # 정확도는 전체 데이터 수 중 맞춘 데이터 수로, 소수 네 번째 자리에서 반올림하여 표시했다.\n",
    "        accuracy = round(count / total,4)\n",
    "\n",
    "        return accuracy"
   ]
  },
  {
   "cell_type": "markdown",
   "metadata": {},
   "source": [
    "## 3) Perceptron 학습\n",
    "\n",
    "작성한 Perceptorn을 Trainset을 이용해 5 epoch 학습하고 학습된 weight, bias를 print합니다."
   ]
  },
  {
   "cell_type": "code",
   "execution_count": 78,
   "metadata": {},
   "outputs": [
    {
     "name": "stdout",
     "output_type": "stream",
     "text": [
      "[4.239999999999998, -1.320000000000001]\n",
      "-7\n"
     ]
    }
   ],
   "source": [
    "ppn = Perceptron(num_features=2)  # 위에서 구현한 Perceptron 모델 정의\n",
    "ppn.train(X_train, y_train, 5)    # 5 epoch 학습\n",
    "\n",
    "# 학습된 모델의 weight, bias 출력\n",
    "print(ppn.weights)\n",
    "print(ppn.bias)"
   ]
  },
  {
   "cell_type": "markdown",
   "metadata": {},
   "source": [
    "## 4) 모델 검증\n",
    "Training set과 Test set각각에서 모델의 accuracy를 계산합니다."
   ]
  },
  {
   "cell_type": "code",
   "execution_count": 79,
   "metadata": {},
   "outputs": [
    {
     "name": "stdout",
     "output_type": "stream",
     "text": [
      "Train set accuracy: 98.75%\n"
     ]
    }
   ],
   "source": [
    "# Train dataset에서 성능 검증\n",
    "train_acc = ppn.evaluate(X_train, y_train)\n",
    "print('Train set accuracy: %.2f%%' % (train_acc*100))"
   ]
  },
  {
   "cell_type": "code",
   "execution_count": 80,
   "metadata": {},
   "outputs": [
    {
     "name": "stdout",
     "output_type": "stream",
     "text": [
      "Test set accuracy: 100.00%\n"
     ]
    }
   ],
   "source": [
    "# Test dataset에서 성능 검증\n",
    "test_acc = ppn.evaluate(X_test, y_test)\n",
    "print('Test set accuracy: %.2f%%' % (test_acc*100))"
   ]
  },
  {
   "cell_type": "markdown",
   "metadata": {},
   "source": [
    "## 5) Decision Boundary\n",
    "train 데이터셋과 test 데이터셋 각각을 이용하여 2개의 scatter plot을 그리고 그 위에 학습된 가중치를 이용하여 결정경계를 시각화합니다."
   ]
  },
  {
   "cell_type": "code",
   "execution_count": 81,
   "metadata": {},
   "outputs": [
    {
     "data": {
      "text/plain": "<Figure size 432x288 with 1 Axes>",
      "image/png": "[encoded data removed]"
     },
     "metadata": {
      "needs_background": "light"
     },
     "output_type": "display_data"
    },
    {
     "data": {
      "text/plain": "<Figure size 432x288 with 1 Axes>",
      "image/png": "[encoded data removed]"
     },
     "metadata": {
      "needs_background": "light"
     },
     "output_type": "display_data"
    }
   ],
   "source": [
    "### Train 데이터셋에서 Decision Boundary 시각화\n",
    "# 그래프로 표현\n",
    "plt.scatter([i[0] for idx, i in enumerate(X_train) if y_train[idx] == 0], \n",
    "            [i[1] for idx, i in enumerate(X_train) if y_train[idx] == 0],\n",
    "            label='class 0', marker='o')\n",
    "plt.scatter([i[0] for idx, i in enumerate(X_train) if y_train[idx] == 1], \n",
    "            [i[1] for idx, i in enumerate(X_train) if y_train[idx] == 1],\n",
    "            label='class 1', marker='s')\n",
    "# Perscptron의 Weight와 Bias를 그래프로 표현\n",
    "plt.plot([0, 7], [-ppn.bias/ppn.weights[1], -(7*ppn.weights[0] + ppn.bias)/ppn.weights[1]])\n",
    "\n",
    "# 그래프로 표현\n",
    "plt.title('Training set')\n",
    "plt.xlabel('feature 1')\n",
    "plt.ylabel('feature 2')\n",
    "plt.xlim([0.0, 7])\n",
    "plt.ylim([-0.8, 0.8])\n",
    "plt.legend()\n",
    "plt.show()\n",
    "\n",
    "### Test 데이터셋에서 Decision Boundary 시각화\n",
    "# 그래프로 표현\n",
    "plt.scatter([i[0] for idx, i in enumerate(X_test) if y_test[idx] == 0], \n",
    "            [i[1] for idx, i in enumerate(X_test) if y_test[idx] == 0],\n",
    "            label='class 0', marker='o')\n",
    "\n",
    "plt.scatter([i[0] for idx, i in enumerate(X_test) if y_test[idx] == 1], \n",
    "            [i[1] for idx, i in enumerate(X_test) if y_test[idx] == 1],\n",
    "            label='class 1', marker='s')\n",
    "# Perscptron의 Weight와 Bias를 그래프로 표현\n",
    "plt.plot([0, 7], [-ppn.bias/ppn.weights[1], -(7*ppn.weights[0] + ppn.bias)/ppn.weights[1]])\n",
    "\n",
    "# 그래프로 표현\n",
    "plt.title('Test set')\n",
    "plt.xlabel('feature 1')\n",
    "plt.ylabel('feature 2')\n",
    "plt.xlim([0.0, 7])\n",
    "plt.ylim([-0.8, 0.8])\n",
    "plt.legend()\n",
    "plt.show()"
   ]
  },
  {
   "cell_type": "markdown",
   "metadata": {},
   "source": [
    "## 6) Discussion\n",
    "\n",
    "**1) 예시에서 사용된 activation 함수 이외의 어떤 함수가 있는지 찾아보고 설명해보세요.**"
   ]
  },
  {
   "cell_type": "markdown",
   "metadata": {},
   "source": [
    "[답변작성]\n",
    "\n",
    "먼저, 예시에서 사용된 activation 함수는 Binary Step function이라고 불린다.\n",
    "\n",
    "이외에도 다음과 같은 다른 활성화 함수들이 존재한다.\n",
    "\n",
    "- Sigmoid\n",
    "\n",
    "    f(x) = 1 / (1 + e^x)로 정의된다.\n",
    "\n",
    "    항상 양수의 값을 가지며, x가 음의 방향으로 커질 수록 0에 가까워지고, 양의 방향으로 커질 수록 1에 가까워진다.\n",
    "\n",
    "    결과값이 어떤 확률을 나타낼 때 주로 사용된다.\n",
    "    \n",
    "\n",
    "- ReLU\n",
    "\n",
    "    f(x) = max(0,x) 로 정의된다.\n",
    "\n",
    "    x가 음수일 때는 0으로 고정시키고, 이외의 경우 자기 자신을 반환하는 특징이 있다.\n",
    "    \n",
    "\n",
    "- Softmax\n",
    "   \n",
    "    f(i) = e^i / sum(e^j) (i, j = 0, 1, ..., k)로 정의되며 다중 클래스 분류에 사용된다.\n",
    "\n",
    "    k 개의 클래스 중, i 번 째 클래스일 확률을 모든 i에 대해 계산한다.\n",
    "\n",
    "    ex) [ p(사람), p(개), p(고양이) ] = [ 0.1, 0.44, 0.46]\n",
    "\n"
   ]
  },
  {
   "cell_type": "markdown",
   "metadata": {},
   "source": [
    "**2) 단층 Perceptron 으로 풀 수 없는 문제는 어떤것이 있는지 왜 그런지 설명해보세요.**"
   ]
  },
  {
   "cell_type": "markdown",
   "metadata": {},
   "source": [
    "[답변작성]\n",
    "\n",
    "단층 Perceptron을 사용하면, 비선형 활성화 함수가 한 번밖에 사용되지 않기 때문에 아무리 노드의 수를 늘린다고 하더라도, 선형 분류기와의 차이를 가질 수 없다."
   ]
  },
  {
   "cell_type": "markdown",
   "metadata": {},
   "source": [
    "**3) 구현하면서 든 질문에 대해 적어보세요. 그리고 질문에 답할 수 있다면 스스로 답해보세요.**\n"
   ]
  },
  {
   "cell_type": "markdown",
   "metadata": {},
   "source": [
    "[답변작성]\n",
    "\n",
    "이번 예시에서, 데이터를 하나씩 학습했는데(데이터 한 번에 가중치 한 번 업데이트) 이보다는 전체 학습데이터와 전체 target 사이의 MSE를 최소화 하는 방법을 사용하는게 더 좋을 것 같다. 사실 하나씩 학습할 경우 학습이 잘 이루어지지 않을 것(진동발산)이라고 생각했는데, 잘 되는 이유가 궁금하다."
   ]
  },
  {
   "cell_type": "markdown",
   "metadata": {},
   "source": [
    "---"
   ]
  },
  {
   "cell_type": "markdown",
   "metadata": {},
   "source": [
    "# P1.B:  Deep Learning Framwork: Pytorh를 이용하여 MLP 구현 (5점)\n",
    "\n",
    "### 학습목표\n",
    "- pytorch를 사용하여 구현된 MLP 구조를 이해하고 수정할수 있다.\n",
    "- Fashinon-MNIST 문제를 스스로 해결하면서 딥러닝 학습과정을 이해하고 하이퍼파라미터를 튜닝을 할 수 있다.\n",
    "\n",
    "### 실습내용\n",
    "pytorch를 사용하여 구현 되어 있는 MLP를 통해 Fashion-MNIST 데이터셋을 분류하는 classfier를 학습합니다.\n",
    "\n",
    "실습은 다음 순서로 진행됩니다.\n",
    "- 1) Fashon-MNIST 데이터셋 설명\n",
    "- 2) Data loading\n",
    "- 3) Multilayer Perceptron Model\n",
    "- 4) Training\n",
    "- 5) Evaluation\n",
    "- 6) Discussion\n",
    "\n",
    "아래 코드에는 2개의 퍼셉트론은 이용한 MLP 모델이 정의 되어 있습니다.\n",
    "실습을 시작하기전에 이 노트북 파일을 읽고 모든 셀을 실행해하여 올바르게 작동하는지 확인하세요.<br>\n",
    "이후에 아키텍쳐를 마음껏 변경하여 최고의 성능이 나오도록 수정해 보세요.\n",
    "\n",
    "다음은 변경 가능한 부분입니다.\n",
    "- activation 함수 (logistic sigmoid, tanh, relu, leaky relu, ...)\n",
    "- learning rate\n",
    "- hidden layers 갯수\n",
    "- minibatch size\n",
    "\n",
    "그러나 다음 사항은 변경하지 마세요.\n",
    "- 가중치 초기화 방법\n",
    "- 랜덤시드\n",
    "- 최적화 방법, 학습 방법\n",
    "- epochs\n",
    "\n",
    "(Optional) layer를 추가하여 2개 이상의 hidden layer를 구성할 수 있습니다. <br>\n",
    "이 사항은 필수가 아닙니다. 하지만 구현하여 기준점수에 도달한 경우 **추가점수 +2점**이 있습니다.\n",
    "\n",
    "수정가능한 셀은 아래 주석으로 확실하게 하이라이트되어 표시되어 있습니다.\n",
    "\n",
    "```\n",
    "############################################################\n",
    "# 변경 가능한 셀\n",
    "############################################################\n",
    "```\n",
    "\n",
    "### 점수\n",
    "**Test set 기준**\n",
    "\n",
    "- 정확도 85% 이상 2점\n",
    "- 정확도 86% 이상 3점\n",
    "- 정확도 87% 이상 4점\n",
    "- 정확도 88% 이상 5점\n",
    "\n",
    "`.ipynb 파일과 함께 .html 파일 (File -> export as -> HTML)도 함께 제출하세요. 하나만 제출할시 감점이 있습니다.`"
   ]
  },
  {
   "cell_type": "code",
   "execution_count": 82,
   "metadata": {},
   "outputs": [],
   "source": [
    "import torch\n",
    "import os\n",
    "import pandas as pd\n",
    "import numpy as np\n",
    "import time\n",
    "import random\n",
    "from PIL import Image\n",
    "from torch.utils.data import Dataset\n",
    "from torchvision import transforms\n",
    "\n",
    "from torch.utils.data import DataLoader\n",
    "import torch.nn.functional as F\n",
    "import matplotlib.pyplot as plt\n",
    "%matplotlib inline"
   ]
  },
  {
   "cell_type": "code",
   "execution_count": 83,
   "metadata": {},
   "outputs": [],
   "source": [
    "# 이 부분은 절대 변경하지 마세요.\n",
    "\n",
    "RANDOM_SEED = 123\n",
    "DEVICE = torch.device('cuda:0' if torch.cuda.is_available() else 'cpu')"
   ]
  },
  {
   "cell_type": "markdown",
   "metadata": {},
   "source": [
    "## 1) Dataset 설명"
   ]
  },
  {
   "cell_type": "markdown",
   "metadata": {},
   "source": [
    "이 데이터셋은 기존의 MNIST와 비슷하게 10개의 클래스로 이루어진 데이터셋입니다. 또한 흑백의 28x28크기, 60k개의 학습용 이미지와 10k개의 테스트용 이미지로 구성 되어 있는것과 같이 MNIST와 대부분 비슷한 구조로 이뤄져 있습니다. \n",
    "\n",
    "아래는 데이터셋의 샘플 이미지 입니다.\n",
    "\n",
    "![](https://github.com/zalandoresearch/fashion-mnist/raw/master/doc/img/fashion-mnist-sprite.png)\n",
    "\n",
    "출처: https://github.com/zalandoresearch/fashion-mnist)\n",
    "\n"
   ]
  },
  {
   "cell_type": "markdown",
   "metadata": {},
   "source": [
    "데이터셋의 10개의 클래스는 다음과 같습니다.\n",
    "\n",
    "\n",
    "| Label | Description |\n",
    "| --- | --- |\n",
    "| 0 | T-shirt/top |\n",
    "| 1 | Trouser |\n",
    "| 2 | Pullover |\n",
    "| 3 | Dress |\n",
    "| 4 | Coat |\n",
    "| 5 | Sandal |\n",
    "| 6 | Shirt |\n",
    "| 7 | Sneaker |\n",
    "| 8 | Bag |\n",
    "| 9 | Ankle boot |"
   ]
  },
  {
   "cell_type": "markdown",
   "metadata": {},
   "source": [
    "## 2) Dataset Loader"
   ]
  },
  {
   "cell_type": "code",
   "execution_count": 84,
   "metadata": {},
   "outputs": [],
   "source": [
    "import torch\n",
    "from PIL import Image\n",
    "from torchvision.datasets import FashionMNIST\n",
    "from torchvision import transforms\n",
    "from torch.utils.data import DataLoader\n",
    "import pandas as pd\n",
    "\n",
    "import os"
   ]
  },
  {
   "cell_type": "code",
   "execution_count": 85,
   "metadata": {},
   "outputs": [],
   "source": [
    "# Train 데이터 로딩시 데이터 Transform\n",
    "# Random Flip, Random Crop 등을 사용하여 Data augmentation을 수행하고 이를 통해 좋은 성능을 얻을 수 있습니다.\n",
    "# 하지만, 이번 실습에서는 사용하지 않습니다.\n",
    "custom_train_transform = transforms.Compose([  \n",
    "                                             transforms.ToTensor(),\n",
    "                                             transforms.Normalize(mean=(0.5,), std=(0.5,))\n",
    "])"
   ]
  },
  {
   "cell_type": "code",
   "execution_count": 86,
   "metadata": {},
   "outputs": [],
   "source": [
    "# Test 데이터 로딩시 데이터 Transform\n",
    "# Testset의 Trainsform은 Training set 과 다르게 랜덤하게 변경되면 안됩니다.\n",
    "# 이번 실습에서는 사용하지 않습니다.\n",
    "custom_test_transform = transforms.Compose([\n",
    "                                             transforms.ToTensor(),\n",
    "                                             transforms.Normalize(mean=(0.5,), std=(0.5,))\n",
    "])"
   ]
  },
  {
   "cell_type": "code",
   "execution_count": 160,
   "metadata": {},
   "outputs": [],
   "source": [
    "############################################################\n",
    "# 변경 가능한 셀\n",
    "############################################################\n",
    "\n",
    "BATCH_SIZE = 256 # 60000을 사용하면 Full-Batch 학습"
   ]
  },
  {
   "cell_type": "code",
   "execution_count": 223,
   "metadata": {},
   "outputs": [],
   "source": [
    "train_dataset = FashionMNIST(\".\", train=True, download=True, transform=custom_train_transform)\n",
    "\n",
    "train_loader = DataLoader(dataset=train_dataset,\n",
    "                          batch_size=BATCH_SIZE,\n",
    "                          shuffle=True,\n",
    "                          drop_last=True,\n",
    "                          num_workers=2)\n",
    "\n",
    "\n",
    "test_dataset = FashionMNIST(\".\", train=False, download=True, transform=custom_test_transform)\n",
    "\n",
    "test_loader = DataLoader(dataset=test_dataset,\n",
    "                         batch_size=BATCH_SIZE,\n",
    "                         shuffle=False,\n",
    "                         num_workers=2)"
   ]
  },
  {
   "cell_type": "markdown",
   "metadata": {},
   "source": [
    "아래 셀은 데이터셋이 잘 Load 되었는지 확인하는 테스트용 코드입니다."
   ]
  },
  {
   "cell_type": "code",
   "execution_count": 224,
   "metadata": {},
   "outputs": [
    {
     "name": "stdout",
     "output_type": "stream",
     "text": [
      "Epoch: 1 | Batch index: 0 | Batch size: 256\n",
      "break minibatch for-loop\n",
      "Epoch: 2 | Batch index: 0 | Batch size: 256\n",
      "break minibatch for-loop\n"
     ]
    }
   ],
   "source": [
    "num_epochs = 2\n",
    "for epoch in range(num_epochs):\n",
    "\n",
    "    for batch_idx, (x, y) in enumerate(train_loader):\n",
    "        \n",
    "        print('Epoch:', epoch+1, end='')\n",
    "        print(' | Batch index:', batch_idx, end='')\n",
    "        print(' | Batch size:', y.size()[0])\n",
    "        \n",
    "        x = x.to(DEVICE)\n",
    "        y = y.to(DEVICE)\n",
    "        \n",
    "        print('break minibatch for-loop')\n",
    "        break"
   ]
  },
  {
   "cell_type": "markdown",
   "metadata": {},
   "source": [
    "## 3) Multilayer Perceptron Model\n",
    "\n",
    "아래 셀은 MLP모델을 정의하는 부분입니다. 이 과제에서 메인 부분입니다."
   ]
  },
  {
   "cell_type": "code",
   "execution_count": 238,
   "metadata": {},
   "outputs": [],
   "source": [
    "############################################################\n",
    "# 변경 가능한 셀\n",
    "############################################################\n",
    "\n",
    "class MLP(torch.nn.Module):\n",
    "\n",
    "    def __init__(self, num_features, num_hidden_1, num_classes):\n",
    "        super(MLP, self).__init__()\n",
    "        \n",
    "        self.num_classes = num_classes\n",
    "        \n",
    "        ### (optional)레이어 추가 가능\n",
    "        self.linear_1 = torch.nn.Linear(num_features, num_hidden_1 * 8)\n",
    "        self.linear_2 = torch.nn.Linear(num_hidden_1 * 8 , num_hidden_1 * 8)\n",
    "        self.linear_out = torch.nn.Linear(num_hidden_1 * 8 , num_classes)\n",
    "        self.relu = torch.nn.ReLU()\n",
    "\n",
    "    def forward(self, x):\n",
    "\n",
    "        ### activation 함수 변경 가능\n",
    "        ### (optional)레이어간의 연결 추가, 변경 가능\n",
    "        out = self.linear_1(x)\n",
    "        out = self.relu(out)\n",
    "        out = self.linear_2(out)\n",
    "        out = self.relu(out)\n",
    "        out = self.linear_2(out)\n",
    "        out = self.relu(out)\n",
    "        out = self.linear_2(out)\n",
    "        out = self.relu(out)\n",
    "        out = self.linear_2(out)\n",
    "        out = self.relu(out)\n",
    "        out = self.linear_2(out)\n",
    "        out = self.relu(out)\n",
    "        logits = self.linear_out(out)\n",
    "        probas = torch.sigmoid(logits)\n",
    "        return logits, probas\n",
    "\n",
    "\n",
    "#################################\n",
    "### Model 초기화\n",
    "#################################\n",
    "\n",
    "# random seed는 무작위 가중치 초기화가 항상 같도록 해줍니다.\n",
    "# 초기화된 가중치에 따라 같은 네트워크도 서로 다른 성능을 낼 수 있어서\n",
    "# 실제 사용시에는 좋은 성능을 얻기 위해 여러가지 무작위 가중치를 시도해 볼 수 있습니다.\n",
    "# 그러나 이 과제에서는 변경하지 않습니다.\n",
    "random.seed(RANDOM_SEED)\n",
    "torch.manual_seed(RANDOM_SEED)\n",
    "\n",
    "### 모델의 hidden_layer갯수(num_hidden_1`를 변경하고싶거나,\n",
    "### (optional)레이어를 추가하였다면,\n",
    "### 이부분을 알맞게 수정하세요.\n",
    "model = MLP(num_features=28*28,\n",
    "            num_hidden_1=64,\n",
    "            num_classes=10)\n",
    "\n",
    "model = model.to(DEVICE)"
   ]
  },
  {
   "cell_type": "markdown",
   "metadata": {},
   "source": [
    "## 4) Training"
   ]
  },
  {
   "cell_type": "code",
   "execution_count": 239,
   "metadata": {},
   "outputs": [],
   "source": [
    "############################################################\n",
    "# 변경 가능한 셀\n",
    "############################################################\n",
    "\n",
    "### Optimizer는 가중치를 업데이트하는 방법을 바꾸어 더 빠르게 좋은 성능을 낼 수 있도록합니다.\n",
    "### 이 과제에서는 optimizer를 변경하지 않습니다. \n",
    "### 그러나 Learning Rate(lr)는 변경이 가능합니다.\n",
    "optimizer = torch.optim.SGD(model.parameters(), lr=0.1)\n",
    "############################################################"
   ]
  },
  {
   "cell_type": "code",
   "execution_count": 240,
   "metadata": {},
   "outputs": [],
   "source": [
    "NUM_EPOCHS = 30"
   ]
  },
  {
   "cell_type": "code",
   "execution_count": 241,
   "metadata": {},
   "outputs": [
    {
     "name": "stdout",
     "output_type": "stream",
     "text": [
      "Epoch: 001/030 | Batch 000/234 | Cost: 2.3035\n",
      "Epoch: 001/030 | Batch 040/234 | Cost: 2.3006\n",
      "Epoch: 001/030 | Batch 080/234 | Cost: 2.2981\n",
      "Epoch: 001/030 | Batch 120/234 | Cost: 2.2888\n",
      "Epoch: 001/030 | Batch 160/234 | Cost: 2.1798\n",
      "Epoch: 001/030 | Batch 200/234 | Cost: 1.1859\n",
      "Epoch: 001/030 Train Acc.: 56.05% | Test Acc.: 55.59%\n",
      "Time elapsed: 0.16 min\n",
      "Epoch: 002/030 | Batch 000/234 | Cost: 1.0191\n",
      "Epoch: 002/030 | Batch 040/234 | Cost: 0.9033\n",
      "Epoch: 002/030 | Batch 080/234 | Cost: 0.9123\n",
      "Epoch: 002/030 | Batch 120/234 | Cost: 0.8121\n",
      "Epoch: 002/030 | Batch 160/234 | Cost: 0.6690\n",
      "Epoch: 002/030 | Batch 200/234 | Cost: 0.6079\n",
      "Epoch: 002/030 Train Acc.: 73.90% | Test Acc.: 73.26%\n",
      "Time elapsed: 0.31 min\n",
      "Epoch: 003/030 | Batch 000/234 | Cost: 0.5792\n",
      "Epoch: 003/030 | Batch 040/234 | Cost: 0.6753\n",
      "Epoch: 003/030 | Batch 080/234 | Cost: 0.5268\n",
      "Epoch: 003/030 | Batch 120/234 | Cost: 0.4681\n",
      "Epoch: 003/030 | Batch 160/234 | Cost: 0.5271\n",
      "Epoch: 003/030 | Batch 200/234 | Cost: 0.4748\n",
      "Epoch: 003/030 Train Acc.: 84.33% | Test Acc.: 82.74%\n",
      "Time elapsed: 0.47 min\n",
      "Epoch: 004/030 | Batch 000/234 | Cost: 0.4640\n",
      "Epoch: 004/030 | Batch 040/234 | Cost: 0.5588\n",
      "Epoch: 004/030 | Batch 080/234 | Cost: 0.4505\n",
      "Epoch: 004/030 | Batch 120/234 | Cost: 0.5115\n",
      "Epoch: 004/030 | Batch 160/234 | Cost: 0.3839\n",
      "Epoch: 004/030 | Batch 200/234 | Cost: 0.4012\n",
      "Epoch: 004/030 Train Acc.: 85.96% | Test Acc.: 83.92%\n",
      "Time elapsed: 0.62 min\n",
      "Epoch: 005/030 | Batch 000/234 | Cost: 0.2614\n",
      "Epoch: 005/030 | Batch 040/234 | Cost: 0.4917\n",
      "Epoch: 005/030 | Batch 080/234 | Cost: 0.3861\n",
      "Epoch: 005/030 | Batch 120/234 | Cost: 0.3877\n",
      "Epoch: 005/030 | Batch 160/234 | Cost: 0.3858\n",
      "Epoch: 005/030 | Batch 200/234 | Cost: 0.5326\n",
      "Epoch: 005/030 Train Acc.: 86.97% | Test Acc.: 84.86%\n",
      "Time elapsed: 0.78 min\n",
      "Epoch: 006/030 | Batch 000/234 | Cost: 0.3418\n",
      "Epoch: 006/030 | Batch 040/234 | Cost: 0.3896\n",
      "Epoch: 006/030 | Batch 080/234 | Cost: 0.4456\n",
      "Epoch: 006/030 | Batch 120/234 | Cost: 0.4189\n",
      "Epoch: 006/030 | Batch 160/234 | Cost: 0.3757\n",
      "Epoch: 006/030 | Batch 200/234 | Cost: 0.4591\n",
      "Epoch: 006/030 Train Acc.: 87.72% | Test Acc.: 85.64%\n",
      "Time elapsed: 0.93 min\n",
      "Epoch: 007/030 | Batch 000/234 | Cost: 0.3491\n",
      "Epoch: 007/030 | Batch 040/234 | Cost: 0.3264\n",
      "Epoch: 007/030 | Batch 080/234 | Cost: 0.3200\n",
      "Epoch: 007/030 | Batch 120/234 | Cost: 0.3291\n",
      "Epoch: 007/030 | Batch 160/234 | Cost: 0.3055\n",
      "Epoch: 007/030 | Batch 200/234 | Cost: 0.3506\n",
      "Epoch: 007/030 Train Acc.: 88.97% | Test Acc.: 86.96%\n",
      "Time elapsed: 1.08 min\n",
      "Epoch: 008/030 | Batch 000/234 | Cost: 0.3089\n",
      "Epoch: 008/030 | Batch 040/234 | Cost: 0.4240\n",
      "Epoch: 008/030 | Batch 080/234 | Cost: 0.2862\n",
      "Epoch: 008/030 | Batch 120/234 | Cost: 0.3127\n",
      "Epoch: 008/030 | Batch 160/234 | Cost: 0.3899\n",
      "Epoch: 008/030 | Batch 200/234 | Cost: 0.3413\n",
      "Epoch: 008/030 Train Acc.: 88.52% | Test Acc.: 86.23%\n",
      "Time elapsed: 1.24 min\n",
      "Epoch: 009/030 | Batch 000/234 | Cost: 0.2622\n",
      "Epoch: 009/030 | Batch 040/234 | Cost: 0.2739\n",
      "Epoch: 009/030 | Batch 080/234 | Cost: 0.3476\n",
      "Epoch: 009/030 | Batch 120/234 | Cost: 0.3414\n",
      "Epoch: 009/030 | Batch 160/234 | Cost: 0.3069\n",
      "Epoch: 009/030 | Batch 200/234 | Cost: 0.2373\n",
      "Epoch: 009/030 Train Acc.: 88.29% | Test Acc.: 85.76%\n",
      "Time elapsed: 1.39 min\n",
      "Epoch: 010/030 | Batch 000/234 | Cost: 0.3043\n",
      "Epoch: 010/030 | Batch 040/234 | Cost: 0.3726\n",
      "Epoch: 010/030 | Batch 080/234 | Cost: 0.3282\n",
      "Epoch: 010/030 | Batch 120/234 | Cost: 0.3178\n",
      "Epoch: 010/030 | Batch 160/234 | Cost: 0.3796\n",
      "Epoch: 010/030 | Batch 200/234 | Cost: 0.2588\n",
      "Epoch: 010/030 Train Acc.: 88.10% | Test Acc.: 85.34%\n",
      "Time elapsed: 1.55 min\n",
      "Epoch: 011/030 | Batch 000/234 | Cost: 0.3006\n",
      "Epoch: 011/030 | Batch 040/234 | Cost: 0.2913\n",
      "Epoch: 011/030 | Batch 080/234 | Cost: 0.3304\n",
      "Epoch: 011/030 | Batch 120/234 | Cost: 0.2755\n",
      "Epoch: 011/030 | Batch 160/234 | Cost: 0.3258\n",
      "Epoch: 011/030 | Batch 200/234 | Cost: 0.2529\n",
      "Epoch: 011/030 Train Acc.: 90.15% | Test Acc.: 87.43%\n",
      "Time elapsed: 1.70 min\n",
      "Epoch: 012/030 | Batch 000/234 | Cost: 0.2530\n",
      "Epoch: 012/030 | Batch 040/234 | Cost: 0.4088\n",
      "Epoch: 012/030 | Batch 080/234 | Cost: 0.2735\n",
      "Epoch: 012/030 | Batch 120/234 | Cost: 0.2242\n",
      "Epoch: 012/030 | Batch 160/234 | Cost: 0.2308\n",
      "Epoch: 012/030 | Batch 200/234 | Cost: 0.2736\n",
      "Epoch: 012/030 Train Acc.: 89.96% | Test Acc.: 87.10%\n",
      "Time elapsed: 1.85 min\n",
      "Epoch: 013/030 | Batch 000/234 | Cost: 0.2240\n",
      "Epoch: 013/030 | Batch 040/234 | Cost: 0.2679\n",
      "Epoch: 013/030 | Batch 080/234 | Cost: 0.2246\n",
      "Epoch: 013/030 | Batch 120/234 | Cost: 0.2844\n",
      "Epoch: 013/030 | Batch 160/234 | Cost: 0.3383\n",
      "Epoch: 013/030 | Batch 200/234 | Cost: 0.3047\n",
      "Epoch: 013/030 Train Acc.: 90.66% | Test Acc.: 87.20%\n",
      "Time elapsed: 2.01 min\n",
      "Epoch: 014/030 | Batch 000/234 | Cost: 0.2961\n",
      "Epoch: 014/030 | Batch 040/234 | Cost: 0.2135\n",
      "Epoch: 014/030 | Batch 080/234 | Cost: 0.2851\n",
      "Epoch: 014/030 | Batch 120/234 | Cost: 0.2268\n",
      "Epoch: 014/030 | Batch 160/234 | Cost: 0.3187\n",
      "Epoch: 014/030 | Batch 200/234 | Cost: 0.2808\n",
      "Epoch: 014/030 Train Acc.: 91.48% | Test Acc.: 88.22%\n",
      "Time elapsed: 2.16 min\n",
      "Epoch: 015/030 | Batch 000/234 | Cost: 0.2762\n",
      "Epoch: 015/030 | Batch 040/234 | Cost: 0.2475\n",
      "Epoch: 015/030 | Batch 080/234 | Cost: 0.2687\n",
      "Epoch: 015/030 | Batch 120/234 | Cost: 0.2440\n",
      "Epoch: 015/030 | Batch 160/234 | Cost: 0.2105\n",
      "Epoch: 015/030 | Batch 200/234 | Cost: 0.2760\n",
      "Epoch: 015/030 Train Acc.: 90.09% | Test Acc.: 87.05%\n",
      "Time elapsed: 2.32 min\n",
      "Epoch: 016/030 | Batch 000/234 | Cost: 0.1852\n",
      "Epoch: 016/030 | Batch 040/234 | Cost: 0.2390\n",
      "Epoch: 016/030 | Batch 080/234 | Cost: 0.2696\n",
      "Epoch: 016/030 | Batch 120/234 | Cost: 0.2037\n",
      "Epoch: 016/030 | Batch 160/234 | Cost: 0.2053\n",
      "Epoch: 016/030 | Batch 200/234 | Cost: 0.2286\n",
      "Epoch: 016/030 Train Acc.: 92.13% | Test Acc.: 88.15%\n",
      "Time elapsed: 2.47 min\n",
      "Epoch: 017/030 | Batch 000/234 | Cost: 0.2664\n",
      "Epoch: 017/030 | Batch 040/234 | Cost: 0.2962\n",
      "Epoch: 017/030 | Batch 080/234 | Cost: 0.2238\n",
      "Epoch: 017/030 | Batch 120/234 | Cost: 0.2524\n",
      "Epoch: 017/030 | Batch 160/234 | Cost: 0.1977\n",
      "Epoch: 017/030 | Batch 200/234 | Cost: 0.1951\n",
      "Epoch: 017/030 Train Acc.: 92.03% | Test Acc.: 87.86%\n",
      "Time elapsed: 2.62 min\n",
      "Epoch: 018/030 | Batch 000/234 | Cost: 0.3231\n",
      "Epoch: 018/030 | Batch 040/234 | Cost: 0.2447\n",
      "Epoch: 018/030 | Batch 080/234 | Cost: 0.2190\n",
      "Epoch: 018/030 | Batch 120/234 | Cost: 0.2220\n",
      "Epoch: 018/030 | Batch 160/234 | Cost: 0.2475\n",
      "Epoch: 018/030 | Batch 200/234 | Cost: 0.2050\n",
      "Epoch: 018/030 Train Acc.: 91.63% | Test Acc.: 87.56%\n",
      "Time elapsed: 2.78 min\n",
      "Epoch: 019/030 | Batch 000/234 | Cost: 0.2324\n",
      "Epoch: 019/030 | Batch 040/234 | Cost: 0.1963\n",
      "Epoch: 019/030 | Batch 080/234 | Cost: 0.1423\n",
      "Epoch: 019/030 | Batch 120/234 | Cost: 0.2067\n",
      "Epoch: 019/030 | Batch 160/234 | Cost: 0.2253\n",
      "Epoch: 019/030 | Batch 200/234 | Cost: 0.2049\n",
      "Epoch: 019/030 Train Acc.: 92.41% | Test Acc.: 88.37%\n",
      "Time elapsed: 2.93 min\n",
      "Epoch: 020/030 | Batch 000/234 | Cost: 0.2060\n",
      "Epoch: 020/030 | Batch 040/234 | Cost: 0.2618\n",
      "Epoch: 020/030 | Batch 080/234 | Cost: 0.2382\n",
      "Epoch: 020/030 | Batch 120/234 | Cost: 0.2428\n",
      "Epoch: 020/030 | Batch 160/234 | Cost: 0.1155\n",
      "Epoch: 020/030 | Batch 200/234 | Cost: 0.1571\n",
      "Epoch: 020/030 Train Acc.: 90.03% | Test Acc.: 85.78%\n",
      "Time elapsed: 3.09 min\n",
      "Epoch: 021/030 | Batch 000/234 | Cost: 0.2713\n",
      "Epoch: 021/030 | Batch 040/234 | Cost: 0.1415\n",
      "Epoch: 021/030 | Batch 080/234 | Cost: 0.2216\n",
      "Epoch: 021/030 | Batch 120/234 | Cost: 0.1634\n",
      "Epoch: 021/030 | Batch 160/234 | Cost: 0.2671\n",
      "Epoch: 021/030 | Batch 200/234 | Cost: 0.2021\n",
      "Epoch: 021/030 Train Acc.: 92.62% | Test Acc.: 88.41%\n",
      "Time elapsed: 3.24 min\n",
      "Epoch: 022/030 | Batch 000/234 | Cost: 0.1883\n",
      "Epoch: 022/030 | Batch 040/234 | Cost: 0.1280\n",
      "Epoch: 022/030 | Batch 080/234 | Cost: 0.1835\n",
      "Epoch: 022/030 | Batch 120/234 | Cost: 0.2499\n",
      "Epoch: 022/030 | Batch 160/234 | Cost: 0.2187\n",
      "Epoch: 022/030 | Batch 200/234 | Cost: 0.1803\n",
      "Epoch: 022/030 Train Acc.: 92.11% | Test Acc.: 87.49%\n",
      "Time elapsed: 3.40 min\n",
      "Epoch: 023/030 | Batch 000/234 | Cost: 0.1680\n",
      "Epoch: 023/030 | Batch 040/234 | Cost: 0.1655\n",
      "Epoch: 023/030 | Batch 080/234 | Cost: 0.1763\n",
      "Epoch: 023/030 | Batch 120/234 | Cost: 0.2300\n",
      "Epoch: 023/030 | Batch 160/234 | Cost: 0.1963\n",
      "Epoch: 023/030 | Batch 200/234 | Cost: 0.2126\n",
      "Epoch: 023/030 Train Acc.: 93.13% | Test Acc.: 88.05%\n",
      "Time elapsed: 3.55 min\n",
      "Epoch: 024/030 | Batch 000/234 | Cost: 0.1698\n",
      "Epoch: 024/030 | Batch 040/234 | Cost: 0.1825\n",
      "Epoch: 024/030 | Batch 080/234 | Cost: 0.1381\n",
      "Epoch: 024/030 | Batch 120/234 | Cost: 0.1500\n",
      "Epoch: 024/030 | Batch 160/234 | Cost: 0.2644\n",
      "Epoch: 024/030 | Batch 200/234 | Cost: 0.1206\n",
      "Epoch: 024/030 Train Acc.: 94.02% | Test Acc.: 88.71%\n",
      "Time elapsed: 3.71 min\n",
      "Epoch: 025/030 | Batch 000/234 | Cost: 0.1301\n",
      "Epoch: 025/030 | Batch 040/234 | Cost: 0.1380\n",
      "Epoch: 025/030 | Batch 080/234 | Cost: 0.1648\n",
      "Epoch: 025/030 | Batch 120/234 | Cost: 0.1930\n",
      "Epoch: 025/030 | Batch 160/234 | Cost: 0.1447\n",
      "Epoch: 025/030 | Batch 200/234 | Cost: 0.1413\n",
      "Epoch: 025/030 Train Acc.: 93.64% | Test Acc.: 88.14%\n",
      "Time elapsed: 3.86 min\n",
      "Epoch: 026/030 | Batch 000/234 | Cost: 0.1877\n",
      "Epoch: 026/030 | Batch 040/234 | Cost: 0.1718\n",
      "Epoch: 026/030 | Batch 080/234 | Cost: 0.1435\n",
      "Epoch: 026/030 | Batch 120/234 | Cost: 0.1463\n",
      "Epoch: 026/030 | Batch 160/234 | Cost: 0.1400\n",
      "Epoch: 026/030 | Batch 200/234 | Cost: 0.1322\n",
      "Epoch: 026/030 Train Acc.: 94.68% | Test Acc.: 88.87%\n",
      "Time elapsed: 4.01 min\n",
      "Epoch: 027/030 | Batch 000/234 | Cost: 0.1689\n",
      "Epoch: 027/030 | Batch 040/234 | Cost: 0.1427\n",
      "Epoch: 027/030 | Batch 080/234 | Cost: 0.1872\n",
      "Epoch: 027/030 | Batch 120/234 | Cost: 0.2128\n",
      "Epoch: 027/030 | Batch 160/234 | Cost: 0.1620\n",
      "Epoch: 027/030 | Batch 200/234 | Cost: 0.1790\n",
      "Epoch: 027/030 Train Acc.: 94.96% | Test Acc.: 89.09%\n",
      "Time elapsed: 4.17 min\n",
      "Epoch: 028/030 | Batch 000/234 | Cost: 0.1481\n",
      "Epoch: 028/030 | Batch 040/234 | Cost: 0.1620\n",
      "Epoch: 028/030 | Batch 080/234 | Cost: 0.1215\n",
      "Epoch: 028/030 | Batch 120/234 | Cost: 0.1768\n",
      "Epoch: 028/030 | Batch 160/234 | Cost: 0.1362\n",
      "Epoch: 028/030 | Batch 200/234 | Cost: 0.1720\n",
      "Epoch: 028/030 Train Acc.: 94.80% | Test Acc.: 88.95%\n",
      "Time elapsed: 4.32 min\n",
      "Epoch: 029/030 | Batch 000/234 | Cost: 0.1884\n",
      "Epoch: 029/030 | Batch 040/234 | Cost: 0.1640\n",
      "Epoch: 029/030 | Batch 080/234 | Cost: 0.1940\n",
      "Epoch: 029/030 | Batch 120/234 | Cost: 0.6767\n",
      "Epoch: 029/030 | Batch 160/234 | Cost: 0.1358\n",
      "Epoch: 029/030 | Batch 200/234 | Cost: 0.1573\n",
      "Epoch: 029/030 Train Acc.: 93.71% | Test Acc.: 87.64%\n",
      "Time elapsed: 4.48 min\n",
      "Epoch: 030/030 | Batch 000/234 | Cost: 0.1909\n",
      "Epoch: 030/030 | Batch 040/234 | Cost: 0.1406\n",
      "Epoch: 030/030 | Batch 080/234 | Cost: 0.0848\n",
      "Epoch: 030/030 | Batch 120/234 | Cost: 0.0994\n",
      "Epoch: 030/030 | Batch 160/234 | Cost: 0.1725\n",
      "Epoch: 030/030 | Batch 200/234 | Cost: 0.1789\n",
      "Epoch: 030/030 Train Acc.: 95.11% | Test Acc.: 88.71%\n",
      "Time elapsed: 4.63 min\n",
      "Total Training Time: 4.63 min\n"
     ]
    }
   ],
   "source": [
    "def compute_accuracy_and_loss(model, data_loader, device):\n",
    "    correct_pred, num_examples = 0, 0\n",
    "    cross_entropy = 0.\n",
    "    for i, (features, targets) in enumerate(data_loader):\n",
    "            \n",
    "        features = features.view(-1, 28*28).to(device)\n",
    "        targets = targets.to(device)\n",
    "\n",
    "        logits, probas = model(features)\n",
    "        cross_entropy += F.cross_entropy(logits, targets).item()\n",
    "        _, predicted_labels = torch.max(probas, 1)\n",
    "        num_examples += targets.size(0)\n",
    "        correct_pred += (predicted_labels == targets).sum()\n",
    "    return correct_pred.float()/num_examples * 100, cross_entropy/num_examples\n",
    "    \n",
    "\n",
    "start_time = time.time()\n",
    "train_acc_lst, test_acc_lst = [], []\n",
    "train_loss_lst, test_loss_lst = [], []\n",
    "\n",
    "for epoch in range(NUM_EPOCHS):\n",
    "    \n",
    "    model.train()\n",
    "    \n",
    "    for batch_idx, (features, targets) in enumerate(train_loader):\n",
    "    \n",
    "        ### PREPARE MINIBATCH\n",
    "        features = features.view(-1, 28*28).to(DEVICE)\n",
    "        targets = targets.to(DEVICE)\n",
    "\n",
    "        ### FORWARD AND BACK PROP\n",
    "        logits, probas = model(features)\n",
    "        cost = F.cross_entropy(logits, targets)\n",
    "        optimizer.zero_grad()\n",
    "\n",
    "        cost.backward()\n",
    "\n",
    "        ### UPDATE MODEL PARAMETERS\n",
    "        optimizer.step()\n",
    "\n",
    "        ### LOGGING\n",
    "        if not batch_idx % 40:\n",
    "            print (f'Epoch: {epoch+1:03d}/{NUM_EPOCHS:03d} | '\n",
    "                   f'Batch {batch_idx:03d}/{len(train_loader):03d} |'\n",
    "                   f' Cost: {cost:.4f}')\n",
    "\n",
    "    # 매 Epoch마다 evaluation을 진행합니다.\n",
    "    # Epoch마다 Loss를 기록하여 학습과정을 살펴보고 Underfitting, Overfitting 여부를 확인합니다.\n",
    "    model.eval()\n",
    "    with torch.set_grad_enabled(False): # Gradient 계산이 안되도록\n",
    "        train_acc, train_loss = compute_accuracy_and_loss(model, train_loader, device=DEVICE) # train acc, loss 계산\n",
    "        test_acc, test_loss = compute_accuracy_and_loss(model, test_loader, device=DEVICE)    # test acc, loss 계산\n",
    "        \n",
    "        # list에 train, test의  acc, loss 추가\n",
    "        train_acc_lst.append(train_acc)\n",
    "        test_acc_lst.append(test_acc)\n",
    "        train_loss_lst.append(train_loss)\n",
    "        test_loss_lst.append(test_loss)\n",
    "        \n",
    "        # 로깅\n",
    "        print(f'Epoch: {epoch+1:03d}/{NUM_EPOCHS:03d} Train Acc.: {train_acc:.2f}%'\n",
    "              f' | Test Acc.: {test_acc:.2f}%')\n",
    "    \n",
    "    # 1 epoch 학습 소요시간\n",
    "    elapsed = (time.time() - start_time)/60\n",
    "    print(f'Time elapsed: {elapsed:.2f} min')\n",
    "\n",
    "# 총 학습 소요시간\n",
    "elapsed = (time.time() - start_time)/60\n",
    "print(f'Total Training Time: {elapsed:.2f} min')"
   ]
  },
  {
   "cell_type": "markdown",
   "metadata": {},
   "source": [
    "## 5) Evaluation\n",
    "\n",
    "테스트 데이터와 학습 데이터의 Loss변화를 확인합니다."
   ]
  },
  {
   "cell_type": "code",
   "execution_count": 246,
   "metadata": {},
   "outputs": [
    {
     "data": {
      "text/plain": "<Figure size 432x288 with 1 Axes>",
      "image/png": "[encoded data removed]"
     },
     "metadata": {
      "needs_background": "light"
     },
     "output_type": "display_data"
    }
   ],
   "source": [
    "plt.plot(range(1, NUM_EPOCHS+1), train_loss_lst, label='Training loss')\n",
    "plt.plot(range(1, NUM_EPOCHS+1), test_loss_lst, label='Test loss')\n",
    "plt.legend(loc='upper right')\n",
    "plt.ylabel('Cross entropy')\n",
    "plt.xlabel('Epoch')\n",
    "plt.show()"
   ]
  },
  {
   "cell_type": "code",
   "execution_count": 247,
   "metadata": {},
   "outputs": [
    {
     "data": {
      "text/plain": "<Figure size 432x288 with 1 Axes>",
      "image/png": "[encoded data removed]"
     },
     "metadata": {
      "needs_background": "light"
     },
     "output_type": "display_data"
    }
   ],
   "source": [
    "plt.plot(range(1, NUM_EPOCHS+1), train_acc_lst, label='Training accuracy')\n",
    "plt.plot(range(1, NUM_EPOCHS+1), test_acc_lst, label='Test accuracy')\n",
    "plt.legend(loc='upper left')\n",
    "plt.ylabel('Cross entropy')\n",
    "plt.xlabel('Epoch')\n",
    "plt.show()"
   ]
  },
  {
   "cell_type": "code",
   "execution_count": 248,
   "metadata": {},
   "outputs": [
    {
     "name": "stdout",
     "output_type": "stream",
     "text": [
      "Test accuracy: 88.71%\n"
     ]
    }
   ],
   "source": [
    "model.eval()\n",
    "with torch.set_grad_enabled(False): # save memory during inference\n",
    "    test_acc, test_loss = compute_accuracy_and_loss(model, test_loader, DEVICE)\n",
    "    print(f'Test accuracy: {test_acc:.2f}%')"
   ]
  },
  {
   "cell_type": "markdown",
   "metadata": {},
   "source": [
    "## 6) Discussion"
   ]
  },
  {
   "cell_type": "markdown",
   "metadata": {},
   "source": [
    "**1) 학습, 테스트 정확도는 얼마인가요? (위 숫자를 복사하세요.)**"
   ]
  },
  {
   "cell_type": "markdown",
   "metadata": {},
   "source": [
    "- Training: 95.11%\n",
    "- Test: 88.71%"
   ]
  },
  {
   "cell_type": "markdown",
   "metadata": {},
   "source": [
    "**2) overfitting을 경험했나요? 만약 그랬다면 왜 그랬을지 적어보고, overfitting을 방지하기위한 간단한 방법은 무엇일까요?**"
   ]
  },
  {
   "cell_type": "markdown",
   "metadata": {},
   "source": [
    "[제안하는 방법 적기]\n",
    "\n",
    "overfitting을 경험하였다고 생각합니다. test 정확도보다 training 정확도가 훨씬 더 높았기 때문입니다.\n",
    "\n",
    "overfitting을 방지하기 위해서는 batch size를 키워주는 방법이 있을 것 같습니다."
   ]
  },
  {
   "cell_type": "markdown",
   "metadata": {},
   "source": [
    "**3) 만약 테스트셋의 정확도가 85%에서 88%로 3% 향상되었다고 하면 얼마나 많은 이미지를 더 맞추게 된것일까요?**"
   ]
  },
  {
   "cell_type": "markdown",
   "metadata": {},
   "source": [
    "[간단한 계산식 적기]\n",
    "\n",
    "총 10000개의 테스트셋에서 8500개 -> 8800개를 맞춘 것이므로 300개의 이미지를 더 맞췄다고 할 수 있습니다.\n"
   ]
  },
  {
   "cell_type": "markdown",
   "metadata": {},
   "source": [
    "**4) 구현하면서 든 질문에 대해 적어보세요. 그리고 질문에 답할 수 있다면 스스로 답해보세요.**"
   ]
  },
  {
   "cell_type": "markdown",
   "metadata": {},
   "source": [
    "[답변작성]\n",
    "\n",
    "간혹 batch size를 늘렸을 때 학습이 안이루어지는 경우가 있었는데 learning rate를 조절하니 다시 학습이 잘 되었습니다.\n",
    "왜 그런지 궁금합니다.\n",
    "\n",
    "자답) batch size 가 커지면, 더 많은 데이터 셋에 대해 loss를 구하기 때문에, 일반화 성능이 좋아지지만, 빠르게 수렴하지 않을 수 있습니다.\n",
    "     따라서 learning rate 또한 더 크게 해줘야 수렴하는 것을 볼 수 있는 것 같습니다."
   ]
  }
 ],
 "metadata": {
  "kernelspec": {
   "display_name": "Python 3",
   "language": "python",
   "name": "python3"
  },
  "language_info": {
   "codemirror_mode": {
    "name": "ipython",
    "version": 3
   },
   "file_extension": ".py",
   "mimetype": "text/x-python",
   "name": "python",
   "nbconvert_exporter": "python",
   "pygments_lexer": "ipython3",
   "version": "3.8.3"
  }
 },
 "nbformat": 4,
 "nbformat_minor": 4
}