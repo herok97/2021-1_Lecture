{
 "cells": [
  {
   "cell_type": "code",
   "execution_count": 65,
   "metadata": {
    "collapsed": true
   },
   "outputs": [],
   "source": [
    "def print_list(l):\n",
    "    idx = list(range(len(l)))\n",
    "    print('idx', end='\\t')\n",
    "    for i in idx:\n",
    "        print(i, end='\\t')\n",
    "    print()\n",
    "    for i, row in enumerate(l):\n",
    "        print(i, end='\\t')\n",
    "        for com in row:\n",
    "            print(com,sep='\\t', end='\\t')\n",
    "        print()\n",
    "# Chap02 분할정복법"
   ]
  },
  {
   "cell_type": "code",
   "execution_count": null,
   "outputs": [],
   "source": [
    "# 1. 이분검색: 재귀 알고리즘\n",
    "# 문제: 정렬되지 않은 리스트에서 특정 값을 찾는 문제\n",
    "# 입력 파라미터 S(배열), n(배열의 크기)는 알고리즘 수행 중\n",
    "# 변하지 않는 값이므로 전역 변수로 지정하는게 좋음\n",
    "\n",
    "# 입력\n",
    "S = [1, 2, 3, 5, 11, 12, 4, 7, 10]\n",
    "x = 5   # 찾으려는 값\n",
    "\n",
    "def binary_search(low, high):\n",
    "    if low > high:\n",
    "        return 0\n",
    "    else:\n",
    "        mid = (low + high) // 2\n",
    "        if x == S[mid]:\n",
    "            return mid\n",
    "        elif x < S[mid]:\n",
    "            return binary_search(low, mid-1)\n",
    "        else:\n",
    "            return binary_search(mid+1, high)\n",
    "\n",
    "# 테스트\n",
    "result = binary_search(0, 10)\n",
    "print(result)\n",
    "\n",
    "# 시간 복잡도\n",
    "'''\n",
    "    W(n) = W(n/2) + 1 , n > 1\n",
    "    W(1) = 1 이므로\n",
    "    => W(n) = log(n) + 1\n",
    "\n",
    "'''"
   ],
   "metadata": {
    "collapsed": false,
    "pycharm": {
     "name": "#%%\n"
    }
   }
  },
  {
   "cell_type": "code",
   "execution_count": 35,
   "outputs": [
    {
     "name": "stdout",
     "output_type": "stream",
     "text": [
      "[1, 20, 2, 3, 5, 11, 12, 4, 7, 10]\n",
      "u: [1], v: [20]\n",
      "u: [3], v: [5]\n",
      "u: [2], v: [3, 5]\n",
      "u: [1, 20], v: [2, 3, 5]\n",
      "u: [11], v: [12]\n",
      "u: [7], v: [10]\n",
      "u: [4], v: [7, 10]\n",
      "u: [11, 12], v: [4, 7, 10]\n",
      "u: [1, 2, 3, 5, 20], v: [4, 7, 10, 11, 12]\n",
      "[1, 2, 3, 4, 5, 7, 10, 11, 12, 20]\n"
     ]
    },
    {
     "data": {
      "text/plain": "'\\nmerge_sort 알고리즘의 시간복잡도 분석\\n\\uf0fc 단위연산: 합병 알고리즘 merge 에서 발생하는 비교\\n\\uf0fc 입력크기: 배열 S에 들어 있는 항목의 개수 n\\n\\uf0fc 분석: 최악의 경우 수행시간은 W(h,m) = W(h) + W(m) + h + m - 1이 된다.\\n여기서 W(h)는 U를 정렬하는데 걸리는 시간, W(m)은 V를 정렬하는데\\n걸리는 시간, 그리고 h + m - 1은 합병하는데 걸리는 시간\\n'"
     },
     "execution_count": 35,
     "metadata": {},
     "output_type": "execute_result"
    }
   ],
   "source": [
    "# 2. 합병정렬 (Merge sort)\n",
    "# 문제: n 개의 정수를 비내림차순으로 정렬\n",
    "# 입력: 크기가 n인 배열 S\n",
    "# 출력: 비내림차순으로 정렬된 배열 S\n",
    "\n",
    "# 입력\n",
    "S = [1, 20, 2, 3, 5, 11, 12, 4, 7, 10]\n",
    "\n",
    "def merge_sort(s):\n",
    "    mid = len(s) // 2\n",
    "\n",
    "    if len(s) > 1:\n",
    "        # u, v 에 각각 나눠 담기\n",
    "        u = s[:mid]\n",
    "        v = s[mid:]\n",
    "        merge_sort(u)\n",
    "        merge_sort(v)\n",
    "        print(f'u: {u}, v: {v}')\n",
    "        # 깊은 복사 주의\n",
    "        s[:] = merge(u, v)\n",
    "\n",
    "def merge(u, v):\n",
    "    i, j = 0, 0\n",
    "    result = []\n",
    "    while i < len(u) and j < len(v):\n",
    "        if u[i] > v[j]:\n",
    "            result.append(v[j])\n",
    "            j += 1\n",
    "        else:\n",
    "            result.append(u[i])\n",
    "            i += 1\n",
    "    while j != len(v):\n",
    "        result.append(v[j])\n",
    "        j +=1\n",
    "\n",
    "    while i != len(u):\n",
    "        result.append(u[i])\n",
    "        i +=1\n",
    "    return result\n",
    "\n",
    "print(S)\n",
    "merge_sort(S)\n",
    "print(S)\n",
    "\"\"\"\n",
    "merge 알고리즘의 시간복잡도 분석\n",
    " 단위연산: U[i] 와 V[j]의 비교\n",
    " 입력크기: 2개의 입력 배열에 각각 들어 있는 항목의 개수: h와 m\n",
    " 분석: i = h+1이고, j = m인 상태로 루프(loop)에서 빠져 나가는 때가 최악\n",
    "의 경우로서(V에 있는 처음 m - 1개의 항목이 S의 앞부분에 위치하고, U\n",
    "에 있는 h개의 모든 항목이 그 뒤에 위치하는 경우), 이 때 단위연산의 실\n",
    "행 횟수는 h + m -1이다. 따라서, 최악의 경우 합병하는 시간복잡도는\n",
    "W(h,m) = h + m -1.\n",
    "\"\"\"\n",
    "\n",
    "\"\"\"\n",
    "merge_sort 알고리즘의 시간복잡도 분석\n",
    " 단위연산: 합병 알고리즘 merge 에서 발생하는 비교\n",
    " 입력크기: 배열 S에 들어 있는 항목의 개수 n\n",
    " 분석: 최악의 경우 수행시간은 W(h,m) = W(h) + W(m) + h + m - 1이 된다.\n",
    "여기서 W(h)는 U를 정렬하는데 걸리는 시간, W(m)은 V를 정렬하는데\n",
    "걸리는 시간, 그리고 h + m - 1은 합병하는데 걸리는 시간\n",
    "\"\"\"\n",
    "\n",
    "#\n",
    "# 공간복잡도 관련한 내용은 assignment02.py에 있음 거기서 확인\n",
    "# 인덱스 최대한 활용한 방법으로 구현"
   ],
   "metadata": {
    "collapsed": false,
    "pycharm": {
     "name": "#%%\n"
    }
   }
  },
  {
   "cell_type": "code",
   "execution_count": 61,
   "outputs": [
    {
     "name": "stdout",
     "output_type": "stream",
     "text": [
      "중간결과: [3, 5, 2, 9, 10, 14, 4, 8]\n",
      "중간결과: [3, 5, 2, 9, 10, 14, 4, 8]\n",
      "중간결과: [3, 2, 5, 9, 10, 14, 4, 8]\n",
      "중간결과: [3, 2, 5, 9, 10, 14, 4, 8]\n",
      "중간결과: [3, 2, 5, 9, 10, 14, 4, 8]\n",
      "중간결과: [3, 2, 5, 9, 10, 14, 4, 8]\n",
      "중간결과: [3, 2, 5, 9, 10, 14, 4, 8]\n",
      "중간결과: [2, 3, 5, 9, 10, 14, 4, 8]\n",
      "중간결과: [2, 3, 5, 9, 10, 14, 4, 8]\n",
      "중간결과: [2, 3, 5, 9, 10, 14, 4, 8]\n",
      "중간결과: [2, 3, 5, 9, 10, 14, 4, 8]\n",
      "중간결과: [2, 3, 5, 4, 10, 14, 9, 8]\n",
      "중간결과: [2, 3, 4, 5, 10, 14, 9, 8]\n",
      "중간결과: [2, 3, 4, 5, 10, 14, 9, 8]\n",
      "중간결과: [2, 3, 4, 5, 10, 9, 14, 8]\n",
      "중간결과: [2, 3, 4, 5, 8, 9, 10, 14]\n",
      "idx\t0\t1\t2\t3\t4\t5\t6\t7\t\n"
     ]
    },
    {
     "ename": "TypeError",
     "evalue": "'int' object is not iterable",
     "output_type": "error",
     "traceback": [
      "\u001B[1;31m---------------------------------------------------------------------------\u001B[0m",
      "\u001B[1;31mTypeError\u001B[0m                                 Traceback (most recent call last)",
      "\u001B[1;32m<ipython-input-61-eefbc9beef81>\u001B[0m in \u001B[0;36m<module>\u001B[1;34m\u001B[0m\n\u001B[0;32m     27\u001B[0m \u001B[1;33m\u001B[0m\u001B[0m\n\u001B[0;32m     28\u001B[0m \u001B[0mquickSort\u001B[0m\u001B[1;33m(\u001B[0m\u001B[0ms\u001B[0m\u001B[1;33m,\u001B[0m \u001B[1;36m0\u001B[0m\u001B[1;33m,\u001B[0m \u001B[1;36m7\u001B[0m\u001B[1;33m)\u001B[0m\u001B[1;33m\u001B[0m\u001B[1;33m\u001B[0m\u001B[0m\n\u001B[1;32m---> 29\u001B[1;33m \u001B[0mprint_list\u001B[0m\u001B[1;33m(\u001B[0m\u001B[0ms\u001B[0m\u001B[1;33m)\u001B[0m\u001B[1;33m\u001B[0m\u001B[1;33m\u001B[0m\u001B[0m\n\u001B[0m\u001B[0;32m     30\u001B[0m \u001B[1;33m\u001B[0m\u001B[0m\n\u001B[0;32m     31\u001B[0m \u001B[1;31m# 가장 좋은 경우는 문제가 pivot point에 의해 매번 반씩 나누어질 때\u001B[0m\u001B[1;33m\u001B[0m\u001B[1;33m\u001B[0m\u001B[1;33m\u001B[0m\u001B[0m\n",
      "\u001B[1;32m<ipython-input-58-e0852f1a2140>\u001B[0m in \u001B[0;36mprint_list\u001B[1;34m(l)\u001B[0m\n\u001B[0;32m      6\u001B[0m     \u001B[0mprint\u001B[0m\u001B[1;33m(\u001B[0m\u001B[1;33m)\u001B[0m\u001B[1;33m\u001B[0m\u001B[1;33m\u001B[0m\u001B[0m\n\u001B[0;32m      7\u001B[0m     \u001B[1;32mfor\u001B[0m \u001B[0mi\u001B[0m\u001B[1;33m,\u001B[0m \u001B[0mrow\u001B[0m \u001B[1;32min\u001B[0m \u001B[0menumerate\u001B[0m\u001B[1;33m(\u001B[0m\u001B[0ml\u001B[0m\u001B[1;33m)\u001B[0m\u001B[1;33m:\u001B[0m\u001B[1;33m\u001B[0m\u001B[1;33m\u001B[0m\u001B[0m\n\u001B[1;32m----> 8\u001B[1;33m         \u001B[1;32mfor\u001B[0m \u001B[0mcom\u001B[0m \u001B[1;32min\u001B[0m \u001B[0mrow\u001B[0m\u001B[1;33m:\u001B[0m\u001B[1;33m\u001B[0m\u001B[1;33m\u001B[0m\u001B[0m\n\u001B[0m\u001B[0;32m      9\u001B[0m             \u001B[0mprint\u001B[0m\u001B[1;33m(\u001B[0m\u001B[0mi\u001B[0m\u001B[1;33m,\u001B[0m \u001B[0mcom\u001B[0m\u001B[1;33m,\u001B[0m\u001B[0msep\u001B[0m\u001B[1;33m=\u001B[0m\u001B[1;34m'\\t'\u001B[0m\u001B[1;33m,\u001B[0m \u001B[0mend\u001B[0m\u001B[1;33m=\u001B[0m\u001B[1;34m'\\t'\u001B[0m\u001B[1;33m)\u001B[0m\u001B[1;33m\u001B[0m\u001B[1;33m\u001B[0m\u001B[0m\n\u001B[0;32m     10\u001B[0m         \u001B[0mprint\u001B[0m\u001B[1;33m(\u001B[0m\u001B[1;33m)\u001B[0m\u001B[1;33m\u001B[0m\u001B[1;33m\u001B[0m\u001B[0m\n",
      "\u001B[1;31mTypeError\u001B[0m: 'int' object is not iterable"
     ]
    }
   ],
   "source": [
    "# 3. 빠른 정렬 (Quick sort)\n",
    "# - 분할교환정렬이라고 부르는게 더 정확\n",
    "# 문제: n개의 정수를 비내림차순으로 정렬\n",
    "# 입력: 크기가 n인 배열 S\n",
    "# 출력: 비내림차순으로 정렬된 배열 S\n",
    "\n",
    "s = [3, 5, 2, 9, 10, 14, 4, 8]\n",
    "\n",
    "def quickSort(s, low, high):\n",
    "    if low < high:\n",
    "        pivot = partition(s, low, high)\n",
    "        quickSort(s, low, pivot -1)\n",
    "        quickSort(s, pivot + 1, high)\n",
    "\n",
    "\n",
    "def partition(s, low, high):\n",
    "    pivot = s[low]\n",
    "    j = low\n",
    "    for i in range(low+1, high+1):\n",
    "        print(f'중간결과: {s}')\n",
    "        if s[i] < pivot:\n",
    "            j += 1\n",
    "            s[i], s[j] = s[j], s[i]\n",
    "\n",
    "    s[low], s[j] = s[j], s[low]\n",
    "    return j\n",
    "\n",
    "quickSort(s, 0, 7)\n",
    "print(s)\n",
    "\n",
    "# 가장 좋은 경우는 문제가 pivot point에 의해 매번 반씩 나누어질 때"
   ],
   "metadata": {
    "collapsed": false,
    "pycharm": {
     "name": "#%%\n"
    }
   }
  },
  {
   "cell_type": "code",
   "execution_count": null,
   "outputs": [],
   "source": [
    "# 4. 쉬트라쎈의 행렬 곱셈(matrix multiplication)\n",
    "# 크기보단 그냥 개념 이해\n",
    "# 2x2 행렬 두 개를 곱할 때 원래는 8번의 곱셈이 사용됨\n",
    "# 쉬트라쎈의 방법으로는 7번의 곱셈과 18번의 덧셈/뺄셈 필요\n",
    "# 좋아지지 않은 것 같지만 행렬의 크기가 커지면 훨씬 효율적 -> n^(2.81)"
   ],
   "metadata": {
    "collapsed": false,
    "pycharm": {
     "name": "#%%\n"
    }
   }
  },
  {
   "cell_type": "code",
   "execution_count": null,
   "outputs": [],
   "source": [
    "# 5. 큰 정수 계산법\n",
    "#  문제: 2개의 큰 정수 u와 v를 곱하라\n",
    "#  입력: 큰 정수 u와 v, 크기 n\n",
    "#  출력: prod(u와 v의 곱)\n",
    "\n",
    "def prod2(a,b):\n",
    "    # 몇 자리 수인지 확인\n",
    "    u, v = len(str(a)), len(str(b))\n",
    "\n",
    "    # 예외처리\n",
    "    if a == 0 or b == 0:\n",
    "        return 0\n",
    "\n",
    "    # Threshold 를 네 자리 수의 곱셈으로 정함\n",
    "    elif max(u, v) <= 4:\n",
    "        return a * b\n",
    "    else:\n",
    "        # 자리수를 절반으로 자름\n",
    "        m = max(u, v) // 2\n",
    "        x, y = a // (10 ** m), a % (10 ** m)\n",
    "        w, z = b // (10 ** m), b % (10 ** m)\n",
    "        r = prod2(x+y, w+z)\n",
    "        p = prod2(x, w)\n",
    "        q = prod2(y, z)\n",
    "        return p * (10 ** (2*m)) + (r - p - q) * (10 ** m) + q\n",
    "\n",
    "a = 1234567812345678\n",
    "b = 2345678923456789\n",
    "\n",
    "print(prod2(a,b))\n",
    "print(a*b)\n"
   ],
   "metadata": {
    "collapsed": false,
    "pycharm": {
     "name": "#%%\n"
    }
   }
  },
  {
   "cell_type": "code",
   "execution_count": 46,
   "outputs": [
    {
     "name": "stdout",
     "output_type": "stream",
     "text": [
      "(1, 0)\n",
      "(1, 1)\n",
      "(1, 2)\n",
      "(2, 0)\n",
      "(2, 1)\n",
      "(2, 2)\n",
      "(3, 0)\n",
      "(3, 1)\n",
      "(3, 2)\n",
      "(4, 0)\n",
      "(4, 1)\n",
      "(4, 2)\n",
      "(5, 0)\n",
      "(5, 1)\n",
      "(5, 2)\n",
      "(6, 0)\n",
      "(6, 1)\n",
      "(6, 2)\n",
      "(7, 0)\n",
      "(7, 1)\n",
      "(7, 2)\n",
      "21\n"
     ]
    }
   ],
   "source": [
    "# 6. 이항계수 구하기\n",
    "# 문제: 이항계수를 계산한다.\n",
    "# 입력: 음수가 아닌 정수 n과 k, 여기서 k ≤ n\n",
    "\n",
    "# 분할정복식 (재귀적) 접근방법\n",
    "def bin(n, k):\n",
    "    if k == 0 or n == k:\n",
    "        return 1\n",
    "    else:\n",
    "        return bin(n-1, k-1) + bin(n-1, k)\n",
    "\n",
    "# => 복잡도 = 2 * n+1_C_k - 1\n",
    "\n",
    "def bin2(n, k):\n",
    "    # n * k 배열 선언\n",
    "    # 1 ~ n 행, 0 ~ k 열\n",
    "    b = [[0 for i in range(k+1)] for j in range(0, n+1)]\n",
    "    for i in range(1, n+1):\n",
    "        for j in range(k+1):\n",
    "            print((i, j))\n",
    "            if i == j or j == 0:\n",
    "                b[i][j] = 1\n",
    "            else:\n",
    "                b[i][j] = b[i-1][j-1] + b[i-1][j]\n",
    "    return b[n][k]\n",
    "\n",
    "print(bin2(7, 2))\n"
   ],
   "metadata": {
    "collapsed": false,
    "pycharm": {
     "name": "#%%\n"
    }
   }
  },
  {
   "cell_type": "code",
   "execution_count": 66,
   "outputs": [
    {
     "name": "stdout",
     "output_type": "stream",
     "text": [
      "idx\t0\t1\t2\t3\t4\t\n",
      "0\t0\t1\t3\t1\t4\t\n",
      "1\t8\t0\t3\t2\t5\t\n",
      "2\t10\t11\t0\t4\t7\t\n",
      "3\t6\t7\t2\t0\t3\t\n",
      "4\t3\t4\t6\t4\t0\t\n"
     ]
    }
   ],
   "source": [
    "# Floyd의 알고리즘 I\n",
    "# 문제: 가중치 포함 그래프의 각 정점에서 다른 모든 정점까지의 최단\n",
    "# 거리를 계산하라.\n",
    "# 입력: 가중치 포함, 방향성 그래프 W\n",
    "# 출력: 최단거리의 길이가 포함된 배열 D\n",
    "inf = 2000\n",
    "W = [[0, 1, inf, 1, 5],\n",
    "     [9, 0, 3, 2, inf],\n",
    "     [inf, inf, 0, 4, inf],\n",
    "     [inf, inf, 2, 0, 3],\n",
    "     [3, inf, inf, inf, 0]]\n",
    "\n",
    "def floyd(w):\n",
    "    n = len(w)\n",
    "    d = w\n",
    "    for k in range(n):\n",
    "        for i in range(n):\n",
    "            for j in range(n):\n",
    "                d[i][j] = min(d[i][j], d[i][k]+d[k][j])\n",
    "    return d\n",
    "\n",
    "print_list(floyd(W))"
   ],
   "metadata": {
    "collapsed": false,
    "pycharm": {
     "name": "#%%\n"
    }
   }
  },
  {
   "cell_type": "code",
   "execution_count": 108,
   "outputs": [
    {
     "name": "stdout",
     "output_type": "stream",
     "text": [
      "idx\t0\t1\t2\t3\t4\t5\t\n",
      "0\t0\t0\t0\t0\t0\t0\t\n",
      "1\t0\t0\t1\t3\t1\t4\t\n",
      "2\t0\t8\t0\t3\t2\t5\t\n",
      "3\t0\t10\t11\t0\t4\t7\t\n",
      "4\t0\t6\t7\t2\t0\t3\t\n",
      "5\t0\t3\t4\t6\t4\t0\t\n",
      "\n",
      "idx\t0\t1\t2\t3\t4\t5\t\n",
      "0\t0\t0\t0\t0\t0\t0\t\n",
      "1\t0\t0\t0\t4\t0\t4\t\n",
      "2\t0\t5\t0\t0\t0\t4\t\n",
      "3\t0\t5\t5\t0\t0\t4\t\n",
      "4\t0\t5\t5\t0\t0\t0\t\n",
      "5\t0\t0\t1\t4\t1\t0\t\n"
     ]
    }
   ],
   "source": [
    "# Floyd의 알고리즘 II\n",
    "# 문제: 가중치 포함 그래프의 각 정점에서 다른 모든 정점까지의 최단\n",
    "# 거리를 계산하라.\n",
    "# 입력: 가중치 포함, 방향성 그래프 W\n",
    "# 출력: 최단경로의 길이가 포함된 배열 D\n",
    "#      그리고 다음을 만족하는 배열 P\n",
    "# P[i][j] = { vi 에서 vj 까지 가는 최단경로의 중간에 놓여 있는 정점이\n",
    "#             최소한 하나 있는 경우 -> 그 정점 중 가장 큰 인덱스 }\n",
    "#           { 최단경로의 중간에 놓여 있는 정점이 없는 경우 -> 0 }\n",
    "\n",
    "inf = 2000\n",
    "W = [[0, 0, 0, 0, 0, 0],\n",
    "    [0, 0, 1, inf, 1, 5],\n",
    "     [0, 9, 0, 3, 2, inf],\n",
    "     [0, inf, inf, 0, 4, inf],\n",
    "     [0, inf, inf, 2, 0, 3],\n",
    "     [0, 3, inf, inf, inf, 0]]\n",
    "\n",
    "def floyd2(w):\n",
    "    n = len(w)\n",
    "    d = w\n",
    "    p = [[0 for i in range(n)] for j in range(n)]\n",
    "\n",
    "    for k in range(1, n):\n",
    "        for i in range(1, n):\n",
    "            for j in range(1, n):\n",
    "                if d[i][k] + d[k][j] < d[i][j]:\n",
    "                    p[i][j] = k\n",
    "                    d[i][j] = min(d[i][j], d[i][k]+d[k][j])\n",
    "    return d, p\n",
    "\n",
    "D, P = floyd2(W)\n",
    "print_list(D)\n",
    "print()\n",
    "print_list(P)"
   ],
   "metadata": {
    "collapsed": false,
    "pycharm": {
     "name": "#%%\n"
    }
   }
  },
  {
   "cell_type": "code",
   "execution_count": 109,
   "outputs": [
    {
     "name": "stdout",
     "output_type": "stream",
     "text": [
      " v1 v4"
     ]
    }
   ],
   "source": [
    "# 최단경로의 출력\n",
    "def path(q, r):\n",
    "    if P[q][r] is not 0:\n",
    "        path(q, P[q][r])\n",
    "        print(\" v\", P[q][r], sep='', end='')\n",
    "        path(P[q][r], r)\n",
    "\n",
    "path(5,3)"
   ],
   "metadata": {
    "collapsed": false,
    "pycharm": {
     "name": "#%%\n"
    }
   }
  }
 ],
 "metadata": {
  "kernelspec": {
   "display_name": "Python 3",
   "language": "python",
   "name": "python3"
  },
  "language_info": {
   "codemirror_mode": {
    "name": "ipython",
    "version": 2
   },
   "file_extension": ".py",
   "mimetype": "text/x-python",
   "name": "python",
   "nbconvert_exporter": "python",
   "pygments_lexer": "ipython2",
   "version": "2.7.6"
  }
 },
 "nbformat": 4,
 "nbformat_minor": 0
}