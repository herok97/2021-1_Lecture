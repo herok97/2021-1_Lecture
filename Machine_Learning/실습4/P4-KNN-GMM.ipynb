{
 "cells": [
  {
   "cell_type": "markdown",
   "metadata": {},
   "source": [
    "# [SWCON253] Machine Learning\n",
    "Instructor: Eunseop Shin (kairos9603@khu.ac.kr)\n",
    "\n",
    "Professor: Hui Yong Kim (hykim.v@khu.ac.kr)"
   ]
  },
  {
   "cell_type": "markdown",
   "metadata": {},
   "source": [
    "---"
   ]
  },
  {
   "cell_type": "markdown",
   "metadata": {},
   "source": [
    "# P4.A:  K-NN을 이용한 분류기 학습 (5점)\n",
    "\n",
    "### 학습목표\n",
    "- K-NN 모델을 이용하여 분류기를 학습 할 수 있다.\n",
    "- Scikit-Learn을 이용하여 모델 학습, 검증 과정을 구현할 수 있다.\n",
    "\n",
    "### 실습내용\n",
    "Scikit-Learn의 KNN을 이용하여 분류기를 학습해봅니다. \n",
    "\n",
    "실습은 다음 순서로 진행됩니다.\n",
    "- 1) 주어진 데이터셋 loading\n",
    "- 2) 모델 구현, 학습 **<직접 구현>**\n",
    "- 3) 모델 검증 **<직접 구현>**\n",
    "- 4) Decision Boundary 시각화 **<직접 구현>**\n",
    "- 5) Discussion\n",
    "\n",
    "**이번 실습에서 여러분은 `2), 3), 4)` 부분의 코드를 직접 작성합니다.**\n",
    "\n",
    "앞으로 대부분의 실습도 위와 같은 순서로 진행됩니다. 이번 실습을 통해 각 부분의 코드를 이해하고 다음 실습에 참고하도록합니다.\n",
    "\n",
    "\n",
    "### 점수\n",
    "- KNN 모델 작성: 4점, `#<your code>` 한 부분 마다 1점.\n",
    "- Discussion: 1점\n",
    "\n",
    "`.ipynb 파일과 함께 .html 파일 (File -> export as -> HTML)도 함께 제출하세요. 하나만 제출할시 감점이 있습니다.`"
   ]
  },
  {
   "cell_type": "markdown",
   "metadata": {},
   "source": [
    "## Imports"
   ]
  },
  {
   "cell_type": "code",
   "execution_count": 2,
   "metadata": {},
   "outputs": [],
   "source": [
    "from sklearn.neighbors import KNeighborsClassifier\n",
    "from sklearn import datasets\n",
    "from sklearn.model_selection import train_test_split\n",
    "import numpy as np\n",
    "import matplotlib.pyplot as plt\n",
    "%matplotlib inline"
   ]
  },
  {
   "cell_type": "markdown",
   "metadata": {},
   "source": [
    "## 1) Loading the Dataset\n",
    "iris 데이터셋을 load 합니다.\n",
    "\n",
    "IRIS 데이터셋은 붓꽃 데이터셋으로, 붓꽃의 4가지 특징을 이용해 3개의 다른 종류를 구별하기 위한 데이터셋 입니다.\n",
    "> 4개의 특징: 'sepal length (cm)', 'sepal width (cm)', 'petal length (cm)', 'petal width (cm)'\n",
    "\n",
    "이 실습에서는 중간 2개의 특징만 사용합니다."
   ]
  },
  {
   "cell_type": "code",
   "execution_count": 3,
   "metadata": {},
   "outputs": [],
   "source": [
    "iris = datasets.load_iris()\n",
    "X = iris.data[:, 1:3]  # we only take the first two features.\n",
    "y = iris.target"
   ]
  },
  {
   "cell_type": "markdown",
   "metadata": {},
   "source": [
    "### Dataset Split & Visualization\n",
    "데이터셋을 SciKit-Learn의 `train_test_split` 함수를 이용하여 모델 학습과 검증을 위해 Trainset과 Testset으로 랜덤 샘플링하여 나누고 데이터셋이 어떤 분포로 생겼는지 시각화하여 살펴봅니다."
   ]
  },
  {
   "cell_type": "code",
   "execution_count": 4,
   "metadata": {},
   "outputs": [
    {
     "data": {
      "image/png": "[encoded data removed]",
      "text/plain": [
       "<Figure size 432x288 with 1 Axes>"
      ]
     },
     "metadata": {
      "needs_background": "light"
     },
     "output_type": "display_data"
    }
   ],
   "source": [
    "X_train, X_test, y_train, y_test = train_test_split(X, iris.target, test_size=0.2)      # test를 20% 만큼 사용하도록 trainset, testset split        \n",
    "\n",
    "# 데이터셋 plot\n",
    "plt.scatter([i[0] for idx, i in enumerate(X_train) if y_train[idx] == 0], \n",
    "            [i[1] for idx, i in enumerate(X_train) if y_train[idx] == 0],\n",
    "            marker='o')\n",
    "\n",
    "plt.scatter([i[0] for idx, i in enumerate(X_train) if y_train[idx] == 1], \n",
    "            [i[1] for idx, i in enumerate(X_train) if y_train[idx] == 1],\n",
    "            marker='s')\n",
    "\n",
    "plt.scatter([i[0] for idx, i in enumerate(X_train) if y_train[idx] == 2], \n",
    "            [i[1] for idx, i in enumerate(X_train) if y_train[idx] == 2],\n",
    "            marker='d')\n",
    "plt.show()"
   ]
  },
  {
   "cell_type": "markdown",
   "metadata": {},
   "source": [
    "## 2)모델 구현, 학습\n",
    "이 부분에서는 Scikit-Learn의 KNeighborsClassifier모듈을 이용하여 K-NN모델을 선언하고 학습합니다."
   ]
  },
  {
   "cell_type": "markdown",
   "metadata": {},
   "source": [
    "![](https://raw.githubusercontent.com/artifabrian/dynamic-knn-gpu/master/knn.png)"
   ]
  },
  {
   "cell_type": "markdown",
   "metadata": {},
   "source": [
    "KNN은 비모수(Non-Parametric)모델로 이전의 퍼셉트론, SVM과 다르게 고정된 파라미터의 갯수로 설명되지 않는 모델입니다. 비모수 모델은 입력데이터가 늘어남에 따라 파라미터도 증가하는 모델입니다. \n",
    "\n",
    "KNN은 다음 세가지 단계로 학습이 이루어집니다.\n",
    "1. 숫자 k와 거리 측정 기준을 선택합니다.\n",
    "2. 분류하려는 샘플에서 K개의 최근접 이웃을 찾습니다.\n",
    "3. 다수결 투표, 즉 이웃중 가장 많은 class를 갖는 레이블로 레이블을 할당합니다.\n",
    "\n",
    "위 그림에서는 KNN의 학습과정을 설명하고 있습니다. 위 그림에선 K를 3으로 설정하였습니다. 따라서 마지막 그림에서 3개의 최근접 이웃을 선택하였고 세개중 두개의 이웃이 class B임으로 데이터는 B로 분류됩니다. KNN은 다수결 투표 방식이기 때문에 K가 홀수 이어야 합니다.\n",
    "\n",
    "KNeighborsClassifier에서도 K와 거리 측정 기준을 선택 할 수 있습니다. \n",
    "- n_neighbors 파라미터가 몇개의 최근접 이웃을 선택할지를 정하는 K입니다.\n",
    "- metric 파라미터가 거리 측정 기준입니다.\n",
    "\n",
    "이제 아래 `# <your code>` 부분을 채워 넣어서 코드를 직접 구현하세요."
   ]
  },
  {
   "cell_type": "code",
   "execution_count": 5,
   "metadata": {},
   "outputs": [
    {
     "data": {
      "text/plain": [
       "KNeighborsClassifier(n_neighbors=15)"
      ]
     },
     "execution_count": 5,
     "metadata": {},
     "output_type": "execute_result"
    }
   ],
   "source": [
    "knn = KNeighborsClassifier(n_neighbors = 15)# <your code>\n",
    "knn.fit(X_train, y_train)  # <your code> training with train dataset"
   ]
  },
  {
   "cell_type": "markdown",
   "metadata": {},
   "source": [
    "## 4) 모델 검증\n",
    "Training set과 Test set각각에서 모델의 accuracy를 계산합니다."
   ]
  },
  {
   "cell_type": "code",
   "execution_count": 6,
   "metadata": {},
   "outputs": [
    {
     "name": "stdout",
     "output_type": "stream",
     "text": [
      "Train set accuracy: 95.00%\n",
      "Test set accuracy: 96.67%\n"
     ]
    }
   ],
   "source": [
    "# Train dataset에서 성능 검증\n",
    "train_acc = sum(knn.predict(X_train) == y_train) / len(y_train)# <your code> calculate train accuracy\n",
    "print('Train set accuracy: %.2f%%' % (train_acc*100))\n",
    "# Test dataset에서 성능 검증\n",
    "test_acc = sum(knn.predict(X_test) == y_test) / len(y_test)# <your code> calculate test accuracy\n",
    "print('Test set accuracy: %.2f%%' % (test_acc*100))"
   ]
  },
  {
   "cell_type": "markdown",
   "metadata": {},
   "source": [
    "## 5) Decision Boundary\n",
    "train 데이터셋과 test 데이터셋 각각을 이용하여 2개의 scatter plot을 그리고 그 위에 학습된 가중치를 이용하여 결정경계를 시각화합니다."
   ]
  },
  {
   "cell_type": "code",
   "execution_count": 7,
   "metadata": {},
   "outputs": [
    {
     "data": {
      "image/png": "[encoded data removed]",
      "text/plain": [
       "<Figure size 432x288 with 1 Axes>"
      ]
     },
     "metadata": {
      "needs_background": "light"
     },
     "output_type": "display_data"
    }
   ],
   "source": [
    "### 데이터셋에서 Decision Boundary 시각화\n",
    "x1_min, x1_max = X[:, 0].min() - 1, X[:, 0].max() + 1\n",
    "x2_min, x2_max = X[:, 1].min() - 1, X[:, 1].max() + 1\n",
    "# Decision Boundary를 표시하기 위해\n",
    "# x1_min부터 x1_max까지 0.02간격으로, x2_min부터 x2_max까지 0.5간격의 모든 점의 좌표를 반환\n",
    "xx1, xx2 = np.meshgrid(np.arange(x1_min, x1_max, 0.5),\n",
    "                       np.arange(x2_min, x2_max, 0.5),)\n",
    "Z = knn.predict(np.array([xx1.ravel(), xx2.ravel()]).T)\n",
    "Z = Z.reshape(xx1.shape)\n",
    "plt.contourf(xx1, xx2, Z, alpha=0.3) # 범위를 색으로 표시\n",
    "\n",
    "# 그래프로 표현\n",
    "plt.scatter([i[0] for idx, i in enumerate(X) if y[idx] == 0], \n",
    "            [i[1] for idx, i in enumerate(X) if y[idx] == 0],\n",
    "            label='class 0', marker='x')\n",
    "plt.scatter([i[0] for idx, i in enumerate(X) if y[idx] == 1], \n",
    "            [i[1] for idx, i in enumerate(X) if y[idx] == 1],\n",
    "            label='class 1', marker='s')\n",
    "plt.scatter([i[0] for idx, i in enumerate(X) if y[idx] == 2], \n",
    "            [i[1] for idx, i in enumerate(X) if y[idx] == 2],\n",
    "            label='class 2', marker='d')\n",
    "## testset 강조\n",
    "plt.scatter([i[0] for idx, i in enumerate(X_test)],\n",
    "            [i[1] for idx, i in enumerate(X_test)],\n",
    "            label='class 0', facecolors='none', edgecolor='black', s=100, marker='o')\n",
    "\n",
    "# 그래프로 표현\n",
    "plt.title('Dataset')\n",
    "plt.xlabel('feature 1')\n",
    "plt.ylabel('feature 2')\n",
    "plt.legend()\n",
    "plt.show()"
   ]
  },
  {
   "cell_type": "markdown",
   "metadata": {},
   "source": [
    "## 6) Discussion\n",
    "\n",
    "**1) KNN의 장점과 단점을 설명해보세요.**\n",
    "장점은 좋은 성능에 비해 모델이 단순하고 직관적이라는 것이다. 단점으로는 k를 직접 정해주어야 한다는 점과, metric을 적절히 설정하지 않으면 데이터가 많아졌을 때 분류가 오래 걸릴 수 있다."
   ]
  },
  {
   "cell_type": "markdown",
   "metadata": {},
   "source": [
    "**2) KNN에서 사용될 수 있는 distance matric에대해 설명해보세요.**\n",
    "기본적으로 유클리드 거리를 사용할 수 있다. 하지만 특징벡터의 차원이 높아짐에 따라 많은 양의 계산이 필요하므로, 맨헤튼 거리를 사용하는 것이 더 좋을 수도 있을 것 같다."
   ]
  },
  {
   "cell_type": "markdown",
   "metadata": {},
   "source": [
    "**3) 구현하면서 든 질문에 대해 적고, 답할 수 있다면 스스로 답해보세요.**\n",
    "K-means와 비슷하게 clustering에 사용할 수 있을까 생각해보았지만, labeling이 없기때문에 불가능할 것이라고 결론지었다."
   ]
  },
  {
   "cell_type": "markdown",
   "metadata": {},
   "source": [
    "---"
   ]
  },
  {
   "cell_type": "markdown",
   "metadata": {},
   "source": [
    "# P4.B:  GMM을 이용한 군집화 (5점)\n",
    "\n",
    "### 학습목표\n",
    "- GMM 모델을 이용하여 IRIS데이터를 군집화 할 수 있다.\n",
    "- Scikit-Learn을 이용하여 모델 학습, 검증 과정을 구현할 수 있다.\n",
    "\n",
    "### 실습내용\n",
    "Scikit-Learn의 GMM을 이용하여 군집화를 학습해 봅니다. \n",
    "\n",
    "실습은 다음 순서로 진행됩니다.\n",
    "- 1) 데이터셋 loading\n",
    "- 2) GMM 모델 구현, 학습, 검증, Decision Boundary 시각화 **<직접 구현>**\n",
    "- 3) Discussion\n",
    "\n",
    "**이번 실습에서 여러분은 `2) SVM 모델 구현, 학습, 검증, Decision Boundary 시각화` 부분의 코드를 직접 작성합니다.**\n",
    "\n",
    "앞으로 대부분의 실습도 위와 같은 순서로 진행됩니다. 이번 실습을 통해 각 부분의 코드를 이해하고 다음 실습에 참고하도록합니다.\n",
    "\n",
    "\n",
    "### 점수\n",
    "- 모델 작성: 5점, `#<your code>` 한 부분 마다 1점.\n",
    "\n",
    "`.ipynb 파일과 함께 .html 파일 (File -> export as -> HTML)도 함께 제출하세요. 하나만 제출할시 감점이 있습니다.`"
   ]
  },
  {
   "cell_type": "code",
   "execution_count": 8,
   "metadata": {},
   "outputs": [],
   "source": [
    "from sklearn.mixture import GaussianMixture\n",
    "import numpy as np\n",
    "import matplotlib.pyplot as plt\n",
    "%matplotlib inline"
   ]
  },
  {
   "cell_type": "markdown",
   "metadata": {},
   "source": [
    "## 1) 데이터셋 loading\n",
    "앞의 실습에서 사용하였던 IRIS 데이터를 사용합니다."
   ]
  },
  {
   "cell_type": "code",
   "execution_count": 9,
   "metadata": {},
   "outputs": [
    {
     "ename": "SyntaxError",
     "evalue": "invalid syntax (<ipython-input-9-75bc3aab754f>, line 5)",
     "output_type": "error",
     "traceback": [
      "\u001b[1;36m  File \u001b[1;32m\"<ipython-input-9-75bc3aab754f>\"\u001b[1;36m, line \u001b[1;32m5\u001b[0m\n\u001b[1;33m    X_train, X_test, y_train, y_test = # <your code> split dataset into trainset and testset with using 20% as testset\u001b[0m\n\u001b[1;37m                                                                                                                      ^\u001b[0m\n\u001b[1;31mSyntaxError\u001b[0m\u001b[1;31m:\u001b[0m invalid syntax\n"
     ]
    }
   ],
   "source": [
    "iris = datasets.load_iris()\n",
    "X = iris.data[:, 2:4]  # we only take the first two features.\n",
    "y = iris.target\n",
    "\n",
    "X_train, X_test, y_train, y_test = train_test_split(X, iris.target, test_size=0.2)# <your code> split dataset into trainset and testset with using 20% as testset\n",
    "\n",
    "# 데이터셋 plot\n",
    "plt.scatter([i[0] for idx, i in enumerate(X_train) if y_train[idx] == 0], \n",
    "            [i[1] for idx, i in enumerate(X_train) if y_train[idx] == 0],\n",
    "            marker='o')\n",
    "\n",
    "plt.scatter([i[0] for idx, i in enumerate(X_train) if y_train[idx] == 1], \n",
    "            [i[1] for idx, i in enumerate(X_train) if y_train[idx] == 1],\n",
    "            marker='s')\n",
    "\n",
    "plt.scatter([i[0] for idx, i in enumerate(X_train) if y_train[idx] == 2], \n",
    "            [i[1] for idx, i in enumerate(X_train) if y_train[idx] == 2],\n",
    "            marker='d')\n",
    "plt.show()"
   ]
  },
  {
   "cell_type": "markdown",
   "metadata": {},
   "source": [
    "## 2) GMM 모델 구현, 학습, 검증\n",
    "\n",
    "GMM모델을 이용하여 위 데이터셋을 군집화해 봅니다.\n",
    "\n",
    "GMM은 군집화 모델중 모수모델로, EM(Expectation Maximization)알고리즘을 사용하여 학습하는 가장 대표적인 모델입니다.\n",
    "\n",
    "![](https://mblogthumb-phinf.pstatic.net/MjAxOTA4MzBfMjM1/MDAxNTY3MTEzOTE2NDc0.9HQ3jx7pIDJ4TQ7bJTN23wh9bJVcReVjLlwbTBDqxY8g.I8RXKbOa1LD698_VK3c_z6NXZ97vTXl_p72eidlM2i8g.PNG.jinp7/image.png?type=w800)"
   ]
  },
  {
   "cell_type": "markdown",
   "metadata": {},
   "source": [
    "위 그림처럼 학습을 진행합니다.\n",
    "\n",
    "1. 초기화, 군집의 중심점을 랜덤으로 초기화 합니다.\n",
    "2. 각 sample이 군집에 속할 확률을 예측(Expectation) 합니다.\n",
    "3. 예측값이 최대화(Maximization)되도록 중심점을 업데이트 합니다.\n",
    "4. 수렴될 때까지 2,3을 반복합니다.\n",
    "\n",
    "군집화 모델에서 중요한 점은 초기화시에 몇개의 군집으로 나눌지 미리 설정해주어야 한다는 점입니다. 이 숫자에 따라 군집화모델의 성능이 크게 차이 날 수 있습니다.\n",
    "\n",
    "Scikit-Learn의 GaussianMixture 이용하여 GMM을 학습해 봅니다. \n",
    "GaussianMixture의 `n_components`를 이용하면 군집의 갯수를 정할 수 있습니다."
   ]
  },
  {
   "cell_type": "code",
   "execution_count": 69,
   "metadata": {},
   "outputs": [
    {
     "data": {
      "text/plain": [
       "GaussianMixture(n_components=3)"
      ]
     },
     "execution_count": 69,
     "metadata": {},
     "output_type": "execute_result"
    }
   ],
   "source": [
    "gmm = GaussianMixture(n_components=3)# <your code> GaussianMixture 모델 생성\n",
    "gmm.fit(X_train, y_train)  # <your code> 학습"
   ]
  },
  {
   "cell_type": "code",
   "execution_count": 70,
   "metadata": {},
   "outputs": [
    {
     "name": "stdout",
     "output_type": "stream",
     "text": [
      "Train set score: -1.54\n",
      "Test set score: -1.78\n"
     ]
    },
    {
     "data": {
      "image/png": "[encoded data removed]",
      "text/plain": [
       "<Figure size 432x288 with 1 Axes>"
      ]
     },
     "metadata": {
      "needs_background": "light"
     },
     "output_type": "display_data"
    }
   ],
   "source": [
    "# Train dataset에서 per-sample average log-likelihood 스코어\n",
    "train_score = gmm.score(X_train)# <your code>\n",
    "print('Train set score: %.2f' % (train_score))\n",
    "\n",
    "# Test dataset에서 per-sample average log-likelihood 스코어\n",
    "test_score = gmm.score(X_test)# <your code>\n",
    "print('Test set score: %.2f' % (test_score))\n",
    "\n",
    "### 데이터셋에서 Decision Boundary 시각화\n",
    "x1_min, x1_max = X[:, 0].min() - 1, X[:, 0].max() + 1\n",
    "x2_min, x2_max = X[:, 1].min() - 1, X[:, 1].max() + 1\n",
    "# Decision Boundary를 표시하기 위해\n",
    "# x1_min부터 x1_max까지 0.02간격으로, x2_min부터 x2_max까지 0.02간격의 모든 점의 좌표를 반환\n",
    "xx1, xx2 = np.meshgrid(np.arange(x1_min, x1_max, 0.02),\n",
    "                       np.arange(x2_min, x2_max, 0.02))\n",
    "Z = gmm.predict(np.array([xx1.ravel(), xx2.ravel()]).T)\n",
    "Z = Z.reshape(xx1.shape)\n",
    "plt.contourf(xx1, xx2, Z, alpha=0.3)\n",
    "\n",
    "# 그래프로 표현\n",
    "plt.scatter([i[0] for idx, i in enumerate(X) if y[idx] == 0], \n",
    "            [i[1] for idx, i in enumerate(X) if y[idx] == 0],\n",
    "            label='class 0', marker='x')\n",
    "plt.scatter([i[0] for idx, i in enumerate(X) if y[idx] == 1], \n",
    "            [i[1] for idx, i in enumerate(X) if y[idx] == 1],\n",
    "            label='class 1', marker='s')\n",
    "plt.scatter([i[0] for idx, i in enumerate(X) if y[idx] == 2], \n",
    "            [i[1] for idx, i in enumerate(X) if y[idx] == 2],\n",
    "            label='class 2', marker='d')\n",
    "## testset 강조\n",
    "plt.scatter([i[0] for idx, i in enumerate(X_test)],\n",
    "            [i[1] for idx, i in enumerate(X_test)],\n",
    "            label='test', facecolors='none', edgecolor='black', s=100, marker='o')\n",
    "\n",
    "# 그래프로 표현\n",
    "plt.title('Dataset')\n",
    "plt.xlabel('feature 1')\n",
    "plt.ylabel('feature 2')\n",
    "plt.legend()\n",
    "plt.show()"
   ]
  },
  {
   "cell_type": "markdown",
   "metadata": {},
   "source": [
    "## 3) Discussion"
   ]
  },
  {
   "cell_type": "markdown",
   "metadata": {},
   "source": [
    "**1) 군집화와, 분류의 차이점은 무엇인가요?**\n",
    "군집화는 데이터셋에 class label이 존재하지 않는 비지도학습이며, 분류는 데이터셋에 class label이 존재하는 지도학습이다.\n",
    "군집화는 주어진 데이터셋을 설명하거나 요약하는데 사용할 수 있으며, 분류는 현재의 데이터를 이용하여 미래의 데이터를 예측하는데 주로 사용될 수 있다."
   ]
  },
  {
   "cell_type": "markdown",
   "metadata": {},
   "source": [
    "**2) 군집화 모델의 score matric에 대해 설명해보세요.**\n",
    "군집화 모델의 score metric은 각각의 sample이 속하는 분포에 속할 가능성인 likelihood에 log를 취하여 나타낸다.\n",
    "이를 통해 Gaussian Mixture model이 현재 샘플 데이터들의 군집 상태(분포)를 얼마나 잘 표현했는지를 판단할 수 있을 것이라고 생각한다."
   ]
  },
  {
   "cell_type": "markdown",
   "metadata": {},
   "source": [
    "**3) 구현하면서 든 질문에 대해 적고 답할 수 있다면 스스로 답해보세요.**\n",
    "왜 predict 정확도가 아닌 score metric을 평가했는지 궁금했는데, 현재는 density estimation에 대해 공부하고 있기 때문이라고 생각한다.\n",
    "사실 predict 또한 GMM 모델의 성능을 평가하는데 척도가 될 수 있다고 판단했다."
   ]
  }
 ],
 "metadata": {
  "kernelspec": {
   "display_name": "Python 3",
   "language": "python",
   "name": "python3"
  },
  "language_info": {
   "codemirror_mode": {
    "name": "ipython",
    "version": 3
   },
   "file_extension": ".py",
   "mimetype": "text/x-python",
   "name": "python",
   "nbconvert_exporter": "python",
   "pygments_lexer": "ipython3",
   "version": "3.8.3"
  }
 },
 "nbformat": 4,
 "nbformat_minor": 4
}
