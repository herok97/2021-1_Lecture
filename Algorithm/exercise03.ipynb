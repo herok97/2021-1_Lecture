{
 "cells": [
  {
   "cell_type": "code",
   "execution_count": null,
   "metadata": {
    "collapsed": true,
    "pycharm": {
     "name": "#%% 이분검색: 재귀적 방식\n"
    }
   },
   "outputs": [],
   "source": [
    "'''\n",
    "문제: 크기가 n인 정렬된 배열 S에 x가 있는지를 결정하라.\n",
    "입력: 자연수 n, 비내림차순으로 정렬된 배열 S[1..n], 찾고자 하는 항목 x\n",
    "출력: 위치(location),  x가 S의 어디에 있는지의 위치. 만약 x가 S에 없다면 0\n",
    "설계전략:\n",
    "x가 배열의 중간에 위치하고 있는 항목과 같으면, x 찾음. 그렇지 않으면:\n",
    "분할: 배열을 반으로 나누어서 x가 중앙에 위치한 항목보다 작으면 왼쪽에 위치한 배열 반쪽을 선택하고, 그렇지 않으면 오른쪽에 위치한 배열 반쪽을 선택한다.\n",
    "정복: 선택된 반쪽 배열에서 x를 찾는다.\n",
    "통합: (필요 없음)\n",
    "'''"
   ]
  },
  {
   "cell_type": "code",
   "execution_count": 2,
   "outputs": [
    {
     "name": "stdout",
     "output_type": "stream",
     "text": [
      "8\n"
     ]
    }
   ],
   "source": [
    "def bs(data, item, low, high):\n",
    "    mid = (low + high) // 2\n",
    "    if item not in data:\n",
    "        return -1\n",
    "    if data[mid] > item:\n",
    "        return bs(data, item, low, mid-1)\n",
    "    elif data[mid] < item:\n",
    "        return bs(data, item, mid+1, high)\n",
    "    else:\n",
    "        return mid\n",
    "\n",
    "data=[1,3,5,6,7,9,10,14,17,19]\n",
    "n=10\n",
    "location=bs(data,17,0,n-1)\n",
    "\n",
    "print(location)"
   ],
   "metadata": {
    "collapsed": false,
    "pycharm": {
     "name": "#%%\n"
    }
   }
  },
  {
   "cell_type": "code",
   "execution_count": null,
   "outputs": [],
   "source": [
    "'''\n",
    "문제: n개의 정수를 비내림차순으로 정렬하시오.\n",
    "입력: 정수 n, 크기가 n인 배열 S[1..n]\n",
    "출력: 비내림차순으로 정렬된 배열 S[1..n]\n",
    "보기: 27, 10, 12, 20, 25, 13, 15, 22\n",
    "'''"
   ],
   "metadata": {
    "collapsed": false,
    "pycharm": {
     "name": "#%% 합병정렬(mergesort)\n"
    }
   }
  },
  {
   "cell_type": "code",
   "execution_count": 1,
   "outputs": [
    {
     "name": "stdout",
     "output_type": "stream",
     "text": [
      "[2, 3, 4, 5, 8, 9, 10, 14]\n"
     ]
    }
   ],
   "source": [
    "def mergeSort(n, S):\n",
    "    h = n // 2\n",
    "    m = n - h\n",
    "    if n > 1:\n",
    "        U = S[:h]\n",
    "        V = S[h:]\n",
    "        mergeSort(h, U)\n",
    "        mergeSort(m, V)\n",
    "        merge(h, m, U, V, S)\n",
    "\n",
    "\n",
    "\n",
    "def merge(h, m, U, V, S):\n",
    "    i, j, k = 0, 0, 0\n",
    "    while i < h and j < m:\n",
    "        # print(S)\n",
    "        if (U[i] < V[j]):\n",
    "            S[k] = U[i]\n",
    "            i += 1\n",
    "        else:\n",
    "            S[k] = V[j]\n",
    "            j += 1\n",
    "        k += 1\n",
    "\n",
    "    if (i >= h):\n",
    "        while j < m:\n",
    "            S[k] = V[j]\n",
    "            k += 1\n",
    "            j += 1\n",
    "    else:\n",
    "        while i < h:\n",
    "            S[k] = U[i]\n",
    "            k += 1\n",
    "            i += 1\n",
    "\n",
    "s = [3, 5, 2, 9, 10, 14, 4, 8]\n",
    "mergeSort(8, s)\n",
    "print(s)\n"
   ],
   "metadata": {
    "collapsed": false,
    "pycharm": {
     "name": "#%%\n"
    }
   }
  },
  {
   "cell_type": "code",
   "execution_count": 20,
   "outputs": [
    {
     "name": "stdout",
     "output_type": "stream",
     "text": [
      "S[i] < S[j]: [0, 0, 0, 0, 0, 0, 0, 0]\n",
      "S[i] < S[j]: [0, 0, 0, 0, 0, 0, 0, 0]\n",
      "S[i] < S[j]: [0, 0, 2, 0, 0, 0, 0, 0]\n",
      "S[i] < S[j]: [0, 3, 2, 0, 0, 0, 0, 0]\n",
      "S[i] < S[j]: [0, 0, 0, 0, 0, 0, 0, 0]\n",
      "S[i] < S[j]: [0, 0, 0, 0, 0, 0, 0, 0]\n",
      "6 8 8 8\n"
     ]
    },
    {
     "ename": "IndexError",
     "evalue": "list index out of range",
     "output_type": "error",
     "traceback": [
      "\u001B[1;31m---------------------------------------------------------------------------\u001B[0m",
      "\u001B[1;31mIndexError\u001B[0m                                Traceback (most recent call last)",
      "\u001B[1;32m<ipython-input-20-104d9a30efa0>\u001B[0m in \u001B[0;36m<module>\u001B[1;34m\u001B[0m\n\u001B[0;32m     34\u001B[0m \u001B[1;33m\u001B[0m\u001B[0m\n\u001B[0;32m     35\u001B[0m \u001B[0ms\u001B[0m \u001B[1;33m=\u001B[0m \u001B[1;33m[\u001B[0m\u001B[1;36m3\u001B[0m\u001B[1;33m,\u001B[0m \u001B[1;36m5\u001B[0m\u001B[1;33m,\u001B[0m \u001B[1;36m2\u001B[0m\u001B[1;33m,\u001B[0m \u001B[1;36m9\u001B[0m\u001B[1;33m,\u001B[0m \u001B[1;36m10\u001B[0m\u001B[1;33m,\u001B[0m \u001B[1;36m14\u001B[0m\u001B[1;33m,\u001B[0m \u001B[1;36m4\u001B[0m\u001B[1;33m,\u001B[0m \u001B[1;36m8\u001B[0m\u001B[1;33m]\u001B[0m\u001B[1;33m\u001B[0m\u001B[1;33m\u001B[0m\u001B[0m\n\u001B[1;32m---> 36\u001B[1;33m \u001B[0mmergeSort2\u001B[0m\u001B[1;33m(\u001B[0m\u001B[0ms\u001B[0m\u001B[1;33m,\u001B[0m \u001B[1;36m0\u001B[0m\u001B[1;33m,\u001B[0m \u001B[1;36m7\u001B[0m\u001B[1;33m)\u001B[0m\u001B[1;33m\u001B[0m\u001B[1;33m\u001B[0m\u001B[0m\n\u001B[0m\u001B[0;32m     37\u001B[0m \u001B[0mprint\u001B[0m\u001B[1;33m(\u001B[0m\u001B[0ms\u001B[0m\u001B[1;33m)\u001B[0m\u001B[1;33m\u001B[0m\u001B[1;33m\u001B[0m\u001B[0m\n\u001B[0;32m     38\u001B[0m \u001B[1;33m\u001B[0m\u001B[0m\n",
      "\u001B[1;32m<ipython-input-20-104d9a30efa0>\u001B[0m in \u001B[0;36mmergeSort2\u001B[1;34m(S, low, high)\u001B[0m\n\u001B[0;32m      3\u001B[0m         \u001B[0mmid\u001B[0m \u001B[1;33m=\u001B[0m \u001B[1;33m(\u001B[0m\u001B[0mlow\u001B[0m \u001B[1;33m+\u001B[0m \u001B[0mhigh\u001B[0m\u001B[1;33m)\u001B[0m \u001B[1;33m//\u001B[0m\u001B[1;36m2\u001B[0m\u001B[1;33m\u001B[0m\u001B[1;33m\u001B[0m\u001B[0m\n\u001B[0;32m      4\u001B[0m         \u001B[0mmergeSort2\u001B[0m\u001B[1;33m(\u001B[0m\u001B[0mS\u001B[0m\u001B[1;33m,\u001B[0m \u001B[0mlow\u001B[0m\u001B[1;33m,\u001B[0m \u001B[0mmid\u001B[0m\u001B[1;33m)\u001B[0m\u001B[1;33m\u001B[0m\u001B[1;33m\u001B[0m\u001B[0m\n\u001B[1;32m----> 5\u001B[1;33m         \u001B[0mmergeSort2\u001B[0m\u001B[1;33m(\u001B[0m\u001B[0mS\u001B[0m\u001B[1;33m,\u001B[0m \u001B[0mmid\u001B[0m\u001B[1;33m+\u001B[0m\u001B[1;36m1\u001B[0m\u001B[1;33m,\u001B[0m \u001B[0mhigh\u001B[0m\u001B[1;33m)\u001B[0m\u001B[1;33m\u001B[0m\u001B[1;33m\u001B[0m\u001B[0m\n\u001B[0m\u001B[0;32m      6\u001B[0m         \u001B[0mmerge2\u001B[0m\u001B[1;33m(\u001B[0m\u001B[0mS\u001B[0m\u001B[1;33m,\u001B[0m \u001B[0mlow\u001B[0m\u001B[1;33m,\u001B[0m \u001B[0mmid\u001B[0m\u001B[1;33m,\u001B[0m \u001B[0mhigh\u001B[0m\u001B[1;33m)\u001B[0m\u001B[1;33m\u001B[0m\u001B[1;33m\u001B[0m\u001B[0m\n\u001B[0;32m      7\u001B[0m \u001B[1;33m\u001B[0m\u001B[0m\n",
      "\u001B[1;32m<ipython-input-20-104d9a30efa0>\u001B[0m in \u001B[0;36mmergeSort2\u001B[1;34m(S, low, high)\u001B[0m\n\u001B[0;32m      4\u001B[0m         \u001B[0mmergeSort2\u001B[0m\u001B[1;33m(\u001B[0m\u001B[0mS\u001B[0m\u001B[1;33m,\u001B[0m \u001B[0mlow\u001B[0m\u001B[1;33m,\u001B[0m \u001B[0mmid\u001B[0m\u001B[1;33m)\u001B[0m\u001B[1;33m\u001B[0m\u001B[1;33m\u001B[0m\u001B[0m\n\u001B[0;32m      5\u001B[0m         \u001B[0mmergeSort2\u001B[0m\u001B[1;33m(\u001B[0m\u001B[0mS\u001B[0m\u001B[1;33m,\u001B[0m \u001B[0mmid\u001B[0m\u001B[1;33m+\u001B[0m\u001B[1;36m1\u001B[0m\u001B[1;33m,\u001B[0m \u001B[0mhigh\u001B[0m\u001B[1;33m)\u001B[0m\u001B[1;33m\u001B[0m\u001B[1;33m\u001B[0m\u001B[0m\n\u001B[1;32m----> 6\u001B[1;33m         \u001B[0mmerge2\u001B[0m\u001B[1;33m(\u001B[0m\u001B[0mS\u001B[0m\u001B[1;33m,\u001B[0m \u001B[0mlow\u001B[0m\u001B[1;33m,\u001B[0m \u001B[0mmid\u001B[0m\u001B[1;33m,\u001B[0m \u001B[0mhigh\u001B[0m\u001B[1;33m)\u001B[0m\u001B[1;33m\u001B[0m\u001B[1;33m\u001B[0m\u001B[0m\n\u001B[0m\u001B[0;32m      7\u001B[0m \u001B[1;33m\u001B[0m\u001B[0m\n\u001B[0;32m      8\u001B[0m \u001B[1;32mdef\u001B[0m \u001B[0mmerge2\u001B[0m\u001B[1;33m(\u001B[0m\u001B[0mS\u001B[0m\u001B[1;33m,\u001B[0m \u001B[0mlow\u001B[0m\u001B[1;33m,\u001B[0m \u001B[0mmid\u001B[0m\u001B[1;33m,\u001B[0m \u001B[0mhigh\u001B[0m\u001B[1;33m)\u001B[0m\u001B[1;33m:\u001B[0m\u001B[1;33m\u001B[0m\u001B[1;33m\u001B[0m\u001B[0m\n",
      "\u001B[1;32m<ipython-input-20-104d9a30efa0>\u001B[0m in \u001B[0;36mmerge2\u001B[1;34m(S, low, mid, high)\u001B[0m\n\u001B[0;32m     28\u001B[0m         \u001B[1;32mwhile\u001B[0m \u001B[0mi\u001B[0m \u001B[1;33m<\u001B[0m \u001B[0mmid\u001B[0m\u001B[1;33m:\u001B[0m\u001B[1;33m\u001B[0m\u001B[1;33m\u001B[0m\u001B[0m\n\u001B[0;32m     29\u001B[0m             \u001B[0mprint\u001B[0m\u001B[1;33m(\u001B[0m\u001B[0mk\u001B[0m\u001B[1;33m,\u001B[0m \u001B[0mj\u001B[0m\u001B[1;33m,\u001B[0m \u001B[0mlen\u001B[0m\u001B[1;33m(\u001B[0m\u001B[0mU\u001B[0m\u001B[1;33m)\u001B[0m\u001B[1;33m,\u001B[0m \u001B[0mlen\u001B[0m\u001B[1;33m(\u001B[0m\u001B[0mS\u001B[0m\u001B[1;33m)\u001B[0m\u001B[1;33m)\u001B[0m\u001B[1;33m\u001B[0m\u001B[1;33m\u001B[0m\u001B[0m\n\u001B[1;32m---> 30\u001B[1;33m             \u001B[0mU\u001B[0m\u001B[1;33m[\u001B[0m\u001B[0mk\u001B[0m\u001B[1;33m]\u001B[0m \u001B[1;33m=\u001B[0m \u001B[0mS\u001B[0m\u001B[1;33m[\u001B[0m\u001B[0mj\u001B[0m\u001B[1;33m]\u001B[0m\u001B[1;33m\u001B[0m\u001B[1;33m\u001B[0m\u001B[0m\n\u001B[0m\u001B[0;32m     31\u001B[0m             \u001B[0mi\u001B[0m \u001B[1;33m+=\u001B[0m\u001B[1;36m1\u001B[0m\u001B[1;33m\u001B[0m\u001B[1;33m\u001B[0m\u001B[0m\n\u001B[0;32m     32\u001B[0m             \u001B[0mk\u001B[0m \u001B[1;33m+=\u001B[0m\u001B[1;36m1\u001B[0m\u001B[1;33m\u001B[0m\u001B[1;33m\u001B[0m\u001B[0m\n",
      "\u001B[1;31mIndexError\u001B[0m: list index out of range"
     ]
    }
   ],
   "source": [
    "def mergeSort2(S, low, high):\n",
    "    if low < high:\n",
    "        mid = (low + high) //2\n",
    "        mergeSort2(S, low, mid)\n",
    "        mergeSort2(S, mid+1, high)\n",
    "        merge2(S, low, mid, high)\n",
    "\n",
    "def merge2(S, low, mid, high):\n",
    "    i, j, k = low, mid+1, low\n",
    "    U = [0, 0, 0, 0, 0, 0, 0, 0]\n",
    "    while i <= mid and j <= high:\n",
    "        if S[i] < S[j]:\n",
    "            print(\"S[i] < S[j]:\", U)\n",
    "            U[k] = S[i]\n",
    "            i += 1\n",
    "        else:\n",
    "            U[j] = S[j]\n",
    "            j += 1\n",
    "        k +=1\n",
    "\n",
    "    if i > mid:\n",
    "        while j < high:\n",
    "            print(k, j, len(U), len(S))\n",
    "            U[k] = S[j]\n",
    "            j +=1\n",
    "            k +=1\n",
    "    else:\n",
    "        while i < mid:\n",
    "            print(k, j, len(U), len(S))\n",
    "            U[k] = S[j]\n",
    "            i +=1\n",
    "            k +=1\n",
    "    S = U[:]\n",
    "\n",
    "s = [3, 5, 2, 9, 10, 14, 4, 8]\n",
    "mergeSort2(s, 0, 7)\n",
    "print(s)\n"
   ],
   "metadata": {
    "collapsed": false,
    "pycharm": {
     "name": "#%% 합병정렬2\n"
    }
   }
  }
 ],
 "metadata": {
  "kernelspec": {
   "name": "python3",
   "language": "python",
   "display_name": "Python 3"
  },
  "language_info": {
   "codemirror_mode": {
    "name": "ipython",
    "version": 2
   },
   "file_extension": ".py",
   "mimetype": "text/x-python",
   "name": "python",
   "nbconvert_exporter": "python",
   "pygments_lexer": "ipython2",
   "version": "2.7.6"
  }
 },
 "nbformat": 4,
 "nbformat_minor": 0
}